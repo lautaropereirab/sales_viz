{
 "cells": [
  {
   "cell_type": "code",
   "execution_count": 12,
   "metadata": {},
   "outputs": [],
   "source": [
    "# !pip install plotly\n",
    "# !pip install nbformat\n",
    "\n",
    "import os\n",
    "import pandas as pd\n",
    "import numpy as np\n",
    "import seaborn as sns \n",
    "import matplotlib.pyplot as plt\n",
    "import plotly.express as px"
   ]
  },
  {
   "cell_type": "code",
   "execution_count": 15,
   "metadata": {},
   "outputs": [
    {
     "name": "stdout",
     "output_type": "stream",
     "text": [
      "El directorio actual es: h:\\OneDrive\\Escritorio\\Proyectos\\Data Viz\\sales_viz\n"
     ]
    }
   ],
   "source": [
    "# Obtener el directorio en el que se encuentra el archivo .ipynb\n",
    "current_directory = os.getcwd()\n",
    "print(\"El directorio actual es:\", current_directory)"
   ]
  },
  {
   "cell_type": "code",
   "execution_count": 16,
   "metadata": {},
   "outputs": [
    {
     "data": {
      "text/html": [
       "<div>\n",
       "<style scoped>\n",
       "    .dataframe tbody tr th:only-of-type {\n",
       "        vertical-align: middle;\n",
       "    }\n",
       "\n",
       "    .dataframe tbody tr th {\n",
       "        vertical-align: top;\n",
       "    }\n",
       "\n",
       "    .dataframe thead th {\n",
       "        text-align: right;\n",
       "    }\n",
       "</style>\n",
       "<table border=\"1\" class=\"dataframe\">\n",
       "  <thead>\n",
       "    <tr style=\"text-align: right;\">\n",
       "      <th></th>\n",
       "      <th>Customer ID</th>\n",
       "      <th>Age</th>\n",
       "      <th>Gender</th>\n",
       "      <th>Item Purchased</th>\n",
       "      <th>Category</th>\n",
       "      <th>Purchase Amount (USD)</th>\n",
       "      <th>Location</th>\n",
       "      <th>Size</th>\n",
       "      <th>Color</th>\n",
       "      <th>Season</th>\n",
       "      <th>Review Rating</th>\n",
       "      <th>Subscription Status</th>\n",
       "      <th>Payment Method</th>\n",
       "      <th>Shipping Type</th>\n",
       "      <th>Discount Applied</th>\n",
       "      <th>Promo Code Used</th>\n",
       "      <th>Previous Purchases</th>\n",
       "      <th>Preferred Payment Method</th>\n",
       "      <th>Frequency of Purchases</th>\n",
       "    </tr>\n",
       "  </thead>\n",
       "  <tbody>\n",
       "    <tr>\n",
       "      <th>0</th>\n",
       "      <td>1</td>\n",
       "      <td>55</td>\n",
       "      <td>Male</td>\n",
       "      <td>Blouse</td>\n",
       "      <td>Clothing</td>\n",
       "      <td>53</td>\n",
       "      <td>Kentucky</td>\n",
       "      <td>L</td>\n",
       "      <td>Gray</td>\n",
       "      <td>Winter</td>\n",
       "      <td>3.1</td>\n",
       "      <td>Yes</td>\n",
       "      <td>Credit Card</td>\n",
       "      <td>Express</td>\n",
       "      <td>Yes</td>\n",
       "      <td>Yes</td>\n",
       "      <td>14</td>\n",
       "      <td>Venmo</td>\n",
       "      <td>Fortnightly</td>\n",
       "    </tr>\n",
       "    <tr>\n",
       "      <th>1</th>\n",
       "      <td>2</td>\n",
       "      <td>19</td>\n",
       "      <td>Male</td>\n",
       "      <td>Sweater</td>\n",
       "      <td>Clothing</td>\n",
       "      <td>64</td>\n",
       "      <td>Maine</td>\n",
       "      <td>L</td>\n",
       "      <td>Maroon</td>\n",
       "      <td>Winter</td>\n",
       "      <td>3.1</td>\n",
       "      <td>Yes</td>\n",
       "      <td>Bank Transfer</td>\n",
       "      <td>Express</td>\n",
       "      <td>Yes</td>\n",
       "      <td>Yes</td>\n",
       "      <td>2</td>\n",
       "      <td>Cash</td>\n",
       "      <td>Fortnightly</td>\n",
       "    </tr>\n",
       "    <tr>\n",
       "      <th>2</th>\n",
       "      <td>3</td>\n",
       "      <td>50</td>\n",
       "      <td>Male</td>\n",
       "      <td>Jeans</td>\n",
       "      <td>Clothing</td>\n",
       "      <td>73</td>\n",
       "      <td>Massachusetts</td>\n",
       "      <td>S</td>\n",
       "      <td>Maroon</td>\n",
       "      <td>Spring</td>\n",
       "      <td>3.1</td>\n",
       "      <td>Yes</td>\n",
       "      <td>Cash</td>\n",
       "      <td>Free Shipping</td>\n",
       "      <td>Yes</td>\n",
       "      <td>Yes</td>\n",
       "      <td>23</td>\n",
       "      <td>Credit Card</td>\n",
       "      <td>Weekly</td>\n",
       "    </tr>\n",
       "    <tr>\n",
       "      <th>3</th>\n",
       "      <td>4</td>\n",
       "      <td>21</td>\n",
       "      <td>Male</td>\n",
       "      <td>Sandals</td>\n",
       "      <td>Footwear</td>\n",
       "      <td>90</td>\n",
       "      <td>Rhode Island</td>\n",
       "      <td>M</td>\n",
       "      <td>Maroon</td>\n",
       "      <td>Spring</td>\n",
       "      <td>3.5</td>\n",
       "      <td>Yes</td>\n",
       "      <td>PayPal</td>\n",
       "      <td>Next Day Air</td>\n",
       "      <td>Yes</td>\n",
       "      <td>Yes</td>\n",
       "      <td>49</td>\n",
       "      <td>PayPal</td>\n",
       "      <td>Weekly</td>\n",
       "    </tr>\n",
       "    <tr>\n",
       "      <th>4</th>\n",
       "      <td>5</td>\n",
       "      <td>45</td>\n",
       "      <td>Male</td>\n",
       "      <td>Blouse</td>\n",
       "      <td>Clothing</td>\n",
       "      <td>49</td>\n",
       "      <td>Oregon</td>\n",
       "      <td>M</td>\n",
       "      <td>Turquoise</td>\n",
       "      <td>Spring</td>\n",
       "      <td>2.7</td>\n",
       "      <td>Yes</td>\n",
       "      <td>Cash</td>\n",
       "      <td>Free Shipping</td>\n",
       "      <td>Yes</td>\n",
       "      <td>Yes</td>\n",
       "      <td>31</td>\n",
       "      <td>PayPal</td>\n",
       "      <td>Annually</td>\n",
       "    </tr>\n",
       "  </tbody>\n",
       "</table>\n",
       "</div>"
      ],
      "text/plain": [
       "   Customer ID  Age Gender Item Purchased  Category  Purchase Amount (USD)  \\\n",
       "0            1   55   Male         Blouse  Clothing                     53   \n",
       "1            2   19   Male        Sweater  Clothing                     64   \n",
       "2            3   50   Male          Jeans  Clothing                     73   \n",
       "3            4   21   Male        Sandals  Footwear                     90   \n",
       "4            5   45   Male         Blouse  Clothing                     49   \n",
       "\n",
       "        Location Size      Color  Season  Review Rating Subscription Status  \\\n",
       "0       Kentucky    L       Gray  Winter            3.1                 Yes   \n",
       "1          Maine    L     Maroon  Winter            3.1                 Yes   \n",
       "2  Massachusetts    S     Maroon  Spring            3.1                 Yes   \n",
       "3   Rhode Island    M     Maroon  Spring            3.5                 Yes   \n",
       "4         Oregon    M  Turquoise  Spring            2.7                 Yes   \n",
       "\n",
       "  Payment Method  Shipping Type Discount Applied Promo Code Used  \\\n",
       "0    Credit Card        Express              Yes             Yes   \n",
       "1  Bank Transfer        Express              Yes             Yes   \n",
       "2           Cash  Free Shipping              Yes             Yes   \n",
       "3         PayPal   Next Day Air              Yes             Yes   \n",
       "4           Cash  Free Shipping              Yes             Yes   \n",
       "\n",
       "   Previous Purchases Preferred Payment Method Frequency of Purchases  \n",
       "0                  14                    Venmo            Fortnightly  \n",
       "1                   2                     Cash            Fortnightly  \n",
       "2                  23              Credit Card                 Weekly  \n",
       "3                  49                   PayPal                 Weekly  \n",
       "4                  31                   PayPal               Annually  "
      ]
     },
     "execution_count": 16,
     "metadata": {},
     "output_type": "execute_result"
    }
   ],
   "source": [
    "raw_data = pd.read_csv(\"shopping_trends.csv\")\n",
    "raw_data.head()"
   ]
  },
  {
   "cell_type": "markdown",
   "metadata": {},
   "source": [
    "# EDA"
   ]
  },
  {
   "cell_type": "code",
   "execution_count": 17,
   "metadata": {},
   "outputs": [
    {
     "name": "stdout",
     "output_type": "stream",
     "text": [
      "----------Tamaño del dataset----------\n",
      "Filas = 3900\n",
      "Columnas = 19\n"
     ]
    }
   ],
   "source": [
    "## Obtencion de los datos fundamentales del dataset\n",
    "print(f'{\"-\"*10}Tamaño del dataset{\"-\"*10}')\n",
    "print(f'Filas = {raw_data.shape[0]}')\n",
    "print(f'Columnas = {raw_data.shape[1]}')"
   ]
  },
  {
   "cell_type": "code",
   "execution_count": 18,
   "metadata": {},
   "outputs": [
    {
     "name": "stdout",
     "output_type": "stream",
     "text": [
      "----------Descripcion----------\n",
      "<class 'pandas.core.frame.DataFrame'>\n",
      "RangeIndex: 3900 entries, 0 to 3899\n",
      "Data columns (total 19 columns):\n",
      " #   Column                    Non-Null Count  Dtype  \n",
      "---  ------                    --------------  -----  \n",
      " 0   Customer ID               3900 non-null   int64  \n",
      " 1   Age                       3900 non-null   int64  \n",
      " 2   Gender                    3900 non-null   object \n",
      " 3   Item Purchased            3900 non-null   object \n",
      " 4   Category                  3900 non-null   object \n",
      " 5   Purchase Amount (USD)     3900 non-null   int64  \n",
      " 6   Location                  3900 non-null   object \n",
      " 7   Size                      3900 non-null   object \n",
      " 8   Color                     3900 non-null   object \n",
      " 9   Season                    3900 non-null   object \n",
      " 10  Review Rating             3900 non-null   float64\n",
      " 11  Subscription Status       3900 non-null   object \n",
      " 12  Payment Method            3900 non-null   object \n",
      " 13  Shipping Type             3900 non-null   object \n",
      " 14  Discount Applied          3900 non-null   object \n",
      " 15  Promo Code Used           3900 non-null   object \n",
      " 16  Previous Purchases        3900 non-null   int64  \n",
      " 17  Preferred Payment Method  3900 non-null   object \n",
      " 18  Frequency of Purchases    3900 non-null   object \n",
      "dtypes: float64(1), int64(4), object(14)\n",
      "memory usage: 579.0+ KB\n",
      "None\n"
     ]
    }
   ],
   "source": [
    "print(f'{\"-\"*10}Descripcion{\"-\"*10}')\n",
    "print(raw_data.info())\n"
   ]
  },
  {
   "cell_type": "code",
   "execution_count": 19,
   "metadata": {},
   "outputs": [
    {
     "name": "stdout",
     "output_type": "stream",
     "text": [
      "----------Valores nulos----------\n",
      "Customer ID                 0\n",
      "Age                         0\n",
      "Gender                      0\n",
      "Item Purchased              0\n",
      "Category                    0\n",
      "Purchase Amount (USD)       0\n",
      "Location                    0\n",
      "Size                        0\n",
      "Color                       0\n",
      "Season                      0\n",
      "Review Rating               0\n",
      "Subscription Status         0\n",
      "Payment Method              0\n",
      "Shipping Type               0\n",
      "Discount Applied            0\n",
      "Promo Code Used             0\n",
      "Previous Purchases          0\n",
      "Preferred Payment Method    0\n",
      "Frequency of Purchases      0\n",
      "dtype: int64\n"
     ]
    }
   ],
   "source": [
    "print(f'{\"-\"*10}Valores nulos{\"-\"*10}')\n",
    "print(raw_data.isnull().sum())"
   ]
  },
  {
   "cell_type": "code",
   "execution_count": 20,
   "metadata": {},
   "outputs": [],
   "source": [
    "## Items \n",
    "## Mas vendidos \n",
    "most_sold_items = raw_data[\"Item Purchased\"].value_counts().reset_index()\n",
    "#Items\n",
    "## Mas vendidos (x Categoria)\n",
    "most_sold_items_cat = raw_data[\"Category\"].value_counts().reset_index()\n",
    "#Items\n",
    "## Mas vendidos (x Genero)\n",
    "gender_distribution = raw_data.pivot_table(index=\"Category\", columns=\"Gender\", fill_value=None, aggfunc=\"size\").reset_index()"
   ]
  },
  {
   "cell_type": "code",
   "execution_count": 21,
   "metadata": {},
   "outputs": [
    {
     "data": {
      "image/png": "[encoded data removed]",
      "text/plain": [
       "<Figure size 2000x500 with 3 Axes>"
      ]
     },
     "metadata": {},
     "output_type": "display_data"
    }
   ],
   "source": [
    "#Graficos\n",
    "fig, ax = plt.subplots(1,3,figsize=(20,5))\n",
    "colors = ['#003366', '#336699', '#66A3CC', '#99CCFF']\n",
    "\n",
    "#Prier grafico\n",
    "sns.barplot(data=most_sold_items, x=\"Item Purchased\", hue=\"Item Purchased\", y=\"count\",ax=ax[0], legend=False, palette=\"flare_r\")\n",
    "ax[0].set_xlabel(\"Item\")\n",
    "ax[0].set_ylabel(\"Cantidad\")\n",
    "ax[0].tick_params(axis=\"x\", rotation=90)\n",
    "ax[0].set_title(\"Total Items vendidos\")\n",
    "\n",
    "#Segundo grafico\n",
    "sns.barplot(most_sold_items_cat, x=\"Category\", y=\"count\", ax=ax[1], hue=\"Category\", legend=False, palette=colors)\n",
    "ax[1].set_xlabel(\"Categoria\")\n",
    "ax[1].set_ylabel(\"Cantidad\")\n",
    "ax[1].tick_params(axis=\"x\", rotation=45)\n",
    "ax[1].set_title(\"Total Items vendidos (por categoria)\")\n",
    "\n",
    "#Tercer grafico\n",
    "plt.bar(gender_distribution[\"Category\"], gender_distribution[\"Female\"], label=\"Female\", color=\"#58508d\")\n",
    "plt.bar(gender_distribution[\"Category\"], gender_distribution[\"Male\"], bottom=gender_distribution[\"Female\"], label=\"Male\", color=\"#003f5c\")\n",
    "plt.legend(title=\"Gender\", loc=\"upper right\")\n",
    "ax[2].set_title(\"Total items vendidos (por genero)\")\n",
    "ax[2].set_xlabel(\"Categoria\")\n",
    "ax[2].set_ylabel(\"Cantidad\")\n",
    "ax[2].tick_params(axis=\"x\", rotation=45)\n",
    "\n",
    "\n",
    "plt.suptitle(\"Items\")\n",
    "plt.tight_layout\n",
    "plt.show()\n"
   ]
  },
  {
   "cell_type": "code",
   "execution_count": 24,
   "metadata": {},
   "outputs": [
    {
     "data": {
      "application/vnd.plotly.v1+json": {
       "config": {
        "plotlyServerURL": "https://plot.ly"
       },
       "data": [
        {
         "alignmentgroup": "True",
         "bingroup": "x",
         "hovertemplate": "Review Rating=%{x}<br>count=%{y}<extra></extra>",
         "legendgroup": "",
         "marker": {
          "color": "#FFA07A",
          "line": {
           "color": "black",
           "width": 1.5
          },
          "pattern": {
           "shape": ""
          }
         },
         "name": "",
         "nbinsx": 10,
         "offsetgroup": "",
         "orientation": "v",
         "showlegend": false,
         "type": "histogram",
         "x": [
          3.1,
          3.1,
          3.1,
          3.5,
          2.7,
          2.9,
          3.2,
          3.2,
          2.6,
          4.8,
          4.1,
          4.9,
          4.5,
          4.7,
          4.7,
          2.8,
          4.1,
          4.7,
          4.6,
          3.3,
          2.8,
          4.1,
          3.2,
          4.4,
          2.9,
          3.6,
          3.6,
          5,
          4.4,
          4.1,
          4.7,
          4.7,
          4.9,
          3.3,
          4.6,
          4,
          4.6,
          2.8,
          3.7,
          4.2,
          4.6,
          4.5,
          4.1,
          3.7,
          4.6,
          2.9,
          2.9,
          4.5,
          2.7,
          4.6,
          3.7,
          4.7,
          2.6,
          3.9,
          4.2,
          3,
          4.7,
          4.4,
          4.2,
          4.6,
          4,
          4.7,
          3.8,
          2.7,
          4.8,
          4.8,
          4.7,
          4.4,
          3.9,
          4.4,
          4.2,
          2.9,
          2.9,
          2.7,
          4.5,
          2.7,
          4.2,
          3.3,
          4.7,
          2.6,
          3.3,
          2.6,
          4,
          4.1,
          4.4,
          4.5,
          3.7,
          3.7,
          3.5,
          3.6,
          2.9,
          4.6,
          4.4,
          4.5,
          4.6,
          3.8,
          3.6,
          4.8,
          2.6,
          3.7,
          2.7,
          4.6,
          4.8,
          4,
          4.4,
          3.6,
          3.7,
          3.1,
          3.4,
          2.6,
          4,
          5,
          4.3,
          3.1,
          3.7,
          3.8,
          3.4,
          4.6,
          4.8,
          4.3,
          4,
          4.2,
          4.8,
          3.1,
          3.1,
          3.6,
          3.9,
          4.8,
          4.7,
          4.2,
          3.7,
          3.9,
          4.7,
          2.5,
          4.9,
          4.1,
          3.3,
          4.7,
          4.4,
          3.8,
          3.9,
          4.9,
          3.1,
          2.7,
          3.2,
          4.5,
          4,
          3.5,
          2.6,
          3.2,
          4.9,
          4.5,
          4.3,
          3.2,
          3.6,
          4.3,
          4,
          3,
          4.1,
          3.8,
          4.6,
          3,
          3,
          3.4,
          2.6,
          2.8,
          4,
          4,
          3,
          3.3,
          2.6,
          3.6,
          3.9,
          3.4,
          3.5,
          2.8,
          2.7,
          3.7,
          4.3,
          4.9,
          3.3,
          4.7,
          2.8,
          3.6,
          3,
          4.5,
          2.9,
          3.3,
          3.1,
          4.4,
          3,
          3.9,
          2.9,
          3,
          3.1,
          4.3,
          3.9,
          3.2,
          4.8,
          3.8,
          3.3,
          4.3,
          2.7,
          3.2,
          4,
          3,
          4.2,
          2.9,
          4.1,
          3.2,
          3,
          4.2,
          4.2,
          4.4,
          4.2,
          2.8,
          3.7,
          3.5,
          2.9,
          3,
          3.7,
          4.4,
          4.5,
          4.8,
          2.9,
          3.2,
          3.3,
          4.2,
          2.9,
          4.6,
          4.1,
          3.1,
          4.2,
          4.5,
          3.7,
          3.7,
          3.4,
          3,
          4.2,
          2.9,
          3.5,
          4.1,
          4.3,
          2.8,
          4.9,
          3.3,
          3.2,
          4.4,
          4.8,
          4.2,
          4,
          2.5,
          3.9,
          4.9,
          3.5,
          4.2,
          4.7,
          4.5,
          2.8,
          2.9,
          3.2,
          4.9,
          3.7,
          4.3,
          3.9,
          3.2,
          3.1,
          3.9,
          2.6,
          3.3,
          4.6,
          4.6,
          4.4,
          4.2,
          3,
          4,
          3.5,
          3,
          3.7,
          4,
          4.2,
          2.5,
          3,
          3.2,
          3.5,
          4.8,
          2.6,
          3.4,
          3.7,
          4.5,
          3.7,
          3.3,
          4.7,
          2.7,
          4.6,
          2.7,
          4.8,
          4.4,
          4,
          3.2,
          4.4,
          3.8,
          3.6,
          3.3,
          3.4,
          3.5,
          3.6,
          3.2,
          3.7,
          4.5,
          4.6,
          4.1,
          3.4,
          3.7,
          3.3,
          4.5,
          3.3,
          4.3,
          2.5,
          2.6,
          4.9,
          4.7,
          3,
          3.5,
          4.8,
          4.3,
          3.2,
          3.1,
          2.8,
          2.9,
          3.7,
          3.3,
          2.8,
          4.5,
          2.6,
          3.7,
          4.4,
          4.3,
          3.5,
          3.8,
          3.5,
          4.6,
          2.6,
          4.4,
          4,
          4.4,
          4.7,
          3.9,
          2.7,
          3.7,
          2.6,
          3.9,
          4.9,
          4.1,
          3,
          4.1,
          3.8,
          4,
          3.6,
          3,
          3,
          2.6,
          3.4,
          3.1,
          3,
          3.7,
          3.5,
          2.8,
          4.5,
          3.3,
          3.4,
          3.2,
          3.7,
          4.6,
          5,
          4.4,
          4.9,
          4.1,
          4.9,
          4.7,
          3,
          3.4,
          3.2,
          2.9,
          4.5,
          2.7,
          3.4,
          4.6,
          2.7,
          4.2,
          3.2,
          4.8,
          3.3,
          4.2,
          4.8,
          4.9,
          3.9,
          3,
          4.6,
          3.5,
          4.8,
          4.8,
          3,
          4.5,
          4.8,
          3.8,
          4.6,
          3.1,
          3.4,
          3.3,
          4.8,
          2.8,
          3.1,
          4.6,
          2.6,
          2.6,
          3.8,
          4.5,
          3,
          3.5,
          3.8,
          3.5,
          3.1,
          3,
          4.3,
          3.3,
          4.7,
          4.5,
          2.9,
          4.1,
          3.5,
          3.4,
          3.3,
          3.2,
          4,
          3.6,
          4.6,
          2.6,
          4.3,
          3.4,
          3.5,
          4.2,
          3.5,
          3.6,
          4.3,
          4.9,
          4.1,
          3.6,
          3.4,
          2.9,
          2.7,
          4.3,
          3.3,
          2.8,
          3.2,
          3.6,
          4,
          4.9,
          4,
          3.8,
          3.7,
          3.9,
          3.3,
          2.7,
          4.7,
          2.8,
          4.6,
          4.5,
          5,
          4.1,
          4.6,
          4.9,
          3.9,
          3.9,
          2.6,
          2.7,
          3.5,
          3.7,
          3.2,
          3.3,
          4.8,
          3.2,
          2.5,
          3.9,
          4.7,
          2.6,
          2.8,
          4.4,
          4.6,
          3.2,
          4.2,
          3.7,
          3.9,
          4.7,
          4.5,
          3.3,
          3.3,
          4.6,
          3.6,
          4.8,
          4.8,
          2.9,
          2.8,
          3.2,
          3.9,
          4.3,
          2.7,
          5,
          3.7,
          3.9,
          3.9,
          3.1,
          3.3,
          3.6,
          4.3,
          4.5,
          2.8,
          2.7,
          2.9,
          4.4,
          3.9,
          3.5,
          2.5,
          4.9,
          4.8,
          3.2,
          4.9,
          4.3,
          3.2,
          3.7,
          3.2,
          3.4,
          4.1,
          4.5,
          4.5,
          3.2,
          4.4,
          3,
          3.2,
          4,
          3.1,
          2.8,
          4.6,
          4.3,
          3.3,
          3.5,
          3.4,
          2.8,
          4.6,
          3.6,
          3.3,
          3.1,
          3.5,
          3.2,
          3,
          4.8,
          5,
          2.9,
          3.2,
          2.9,
          3.3,
          2.6,
          3.5,
          4.4,
          3.4,
          4.2,
          3.6,
          3,
          4,
          4.4,
          4.1,
          3.6,
          4.6,
          3.2,
          4.8,
          4.8,
          5,
          3.7,
          4.6,
          3.7,
          4.1,
          2.7,
          4.9,
          4,
          4.7,
          2.8,
          4.9,
          4.2,
          3,
          3.4,
          4.6,
          4.2,
          3.2,
          4.4,
          2.5,
          3.6,
          4.5,
          3.4,
          3.2,
          4.2,
          5,
          4.7,
          4.2,
          3.4,
          4.4,
          4.2,
          4.5,
          2.8,
          3.3,
          4.6,
          2.5,
          4.7,
          4.6,
          2.6,
          4,
          2.6,
          4.6,
          2.6,
          4,
          4.6,
          3.7,
          4.4,
          4,
          4.7,
          3.4,
          4,
          3.9,
          4.1,
          3.7,
          4.7,
          4.3,
          4.1,
          3.9,
          2.9,
          3.9,
          4.3,
          2.8,
          3.4,
          2.7,
          4,
          4.4,
          3.9,
          2.8,
          3.2,
          4.3,
          4.2,
          4.9,
          3.7,
          4.1,
          4.2,
          3.9,
          2.9,
          3.1,
          3.6,
          4.4,
          3.1,
          3.9,
          4.3,
          4.9,
          3.6,
          5,
          4.1,
          2.8,
          4.7,
          4.4,
          4.9,
          3.1,
          2.6,
          2.9,
          3.3,
          4.8,
          4.7,
          3.3,
          4.2,
          4.7,
          2.6,
          2.9,
          2.7,
          3.3,
          3.4,
          4.2,
          3.8,
          4,
          2.7,
          4.7,
          3.5,
          3,
          3.3,
          4.7,
          4.7,
          4.8,
          2.9,
          4,
          3.1,
          3.5,
          3.7,
          2.8,
          4.6,
          3.8,
          2.6,
          4.1,
          3.3,
          3.4,
          3,
          3.2,
          4.5,
          4.8,
          3.7,
          3.4,
          4.6,
          4.1,
          3.5,
          3.8,
          2.6,
          4.4,
          2.6,
          3.6,
          4.2,
          4.6,
          3.3,
          3.4,
          4.4,
          4.3,
          3.5,
          4.7,
          3.1,
          3.6,
          4.8,
          3.7,
          3.2,
          3.9,
          3.5,
          2.8,
          2.7,
          3.1,
          3.6,
          2.9,
          3.6,
          3.5,
          3.5,
          2.8,
          4.7,
          3.1,
          4.9,
          4.1,
          4.7,
          2.5,
          4.4,
          3.9,
          3.7,
          3.4,
          4.8,
          4.2,
          3.4,
          2.9,
          3.3,
          4.8,
          3.8,
          4.6,
          2.6,
          3.4,
          4.2,
          3.9,
          2.9,
          4.2,
          3,
          3.6,
          2.5,
          2.6,
          4.3,
          3.3,
          2.6,
          3.6,
          2.6,
          3.5,
          3,
          5,
          2.5,
          2.9,
          4.6,
          3.6,
          3,
          4.5,
          4.5,
          3.2,
          4,
          4.8,
          3.7,
          3.8,
          2.7,
          4.9,
          3.1,
          4.2,
          3.8,
          4.2,
          4.6,
          4,
          4,
          3.8,
          3.3,
          2.6,
          4.9,
          3.5,
          2.8,
          2.6,
          3.7,
          2.7,
          3.3,
          4.6,
          4.9,
          4.9,
          2.7,
          3.2,
          2.9,
          3.8,
          3,
          3.9,
          4.7,
          4.9,
          4.8,
          2.5,
          3.9,
          3.4,
          2.5,
          3,
          3.6,
          3.6,
          4.1,
          3.7,
          3.1,
          4.2,
          4.3,
          2.5,
          3.5,
          3.1,
          2.5,
          3.9,
          4.9,
          4.3,
          2.6,
          4.2,
          2.6,
          3.6,
          3.2,
          4.4,
          3.7,
          3.7,
          4.1,
          3.6,
          4.3,
          2.6,
          2.9,
          4.2,
          4,
          4.3,
          3,
          3.5,
          3,
          3.1,
          4,
          4.1,
          3.3,
          4.9,
          3.9,
          3.9,
          4.8,
          2.7,
          3.1,
          3.2,
          2.7,
          2.5,
          2.6,
          2.9,
          4.2,
          4.4,
          4.1,
          3.8,
          4.9,
          4.9,
          4.1,
          3.1,
          2.7,
          3.8,
          4.3,
          4.1,
          4.4,
          3.6,
          3.3,
          3.6,
          2.8,
          4.3,
          3.9,
          2.7,
          4.7,
          3.8,
          4.7,
          4.7,
          3.4,
          3.5,
          4,
          3.3,
          4.7,
          2.8,
          3.3,
          2.9,
          2.8,
          4.2,
          4.4,
          3.6,
          2.7,
          3.4,
          2.8,
          3.4,
          2.6,
          4.1,
          2.9,
          2.7,
          3.7,
          4.3,
          2.6,
          4.3,
          4.1,
          4.2,
          4.2,
          3.1,
          4.9,
          4.4,
          4.4,
          3.4,
          4.5,
          4.5,
          4.1,
          3.2,
          2.7,
          3.7,
          2.6,
          2.7,
          2.7,
          4.8,
          4.8,
          2.6,
          4.5,
          3.2,
          3.8,
          4.8,
          4.1,
          2.8,
          3.9,
          4.9,
          3.4,
          4.1,
          2.9,
          3.1,
          3.6,
          3.5,
          3.4,
          2.9,
          4.7,
          4.4,
          2.6,
          4.4,
          3.7,
          4.4,
          2.5,
          2.6,
          5,
          4.9,
          3.7,
          3.1,
          3.2,
          4.4,
          4.3,
          3,
          3.5,
          3.6,
          3.8,
          3.6,
          4.6,
          2.5,
          3.5,
          4,
          3.5,
          3.2,
          3.5,
          3.4,
          5,
          4.5,
          2.8,
          4.9,
          3.1,
          4.8,
          2.7,
          4.6,
          4.4,
          3.2,
          3,
          4.9,
          3.6,
          3.8,
          2.9,
          3.9,
          3.6,
          3.5,
          4,
          4.8,
          3.9,
          4.5,
          4.8,
          2.6,
          3.1,
          4.7,
          2.9,
          3.8,
          3.8,
          3,
          4.1,
          3.4,
          2.5,
          4.9,
          2.8,
          4.5,
          4.9,
          4.9,
          3.5,
          3.5,
          4.9,
          3,
          2.8,
          3.7,
          3.6,
          3.3,
          3.4,
          4,
          4.6,
          4.2,
          2.8,
          3.7,
          3.4,
          3,
          4.8,
          4,
          4.9,
          4.9,
          3.3,
          4.4,
          3.5,
          4.2,
          4.2,
          2.7,
          2.8,
          3.8,
          2.6,
          3,
          3.3,
          4.9,
          3.3,
          2.9,
          4.4,
          3.1,
          2.5,
          2.6,
          4.4,
          2.6,
          3.3,
          3.5,
          4.1,
          4,
          2.7,
          2.5,
          4.3,
          3.3,
          2.6,
          3.5,
          4,
          2.6,
          4.9,
          2.9,
          3.7,
          4.4,
          4.4,
          3.8,
          4.5,
          2.6,
          3.3,
          4.1,
          3,
          3,
          3.4,
          2.7,
          3.8,
          4.2,
          4.7,
          4.1,
          4.2,
          4.8,
          3,
          2.6,
          3.2,
          3.6,
          2.6,
          4.4,
          3,
          2.9,
          4.3,
          3.1,
          3,
          3.6,
          2.8,
          2.8,
          4.9,
          3,
          4.1,
          4.6,
          4.8,
          2.6,
          4,
          4.2,
          4.5,
          4.9,
          3.1,
          4,
          3.2,
          4.3,
          2.5,
          4.9,
          2.7,
          3.4,
          4.8,
          4.7,
          4.7,
          3.9,
          3.7,
          4.3,
          4.1,
          4.6,
          3.6,
          4.8,
          2.8,
          4.7,
          3.9,
          2.6,
          4.7,
          3.5,
          4.4,
          4.4,
          3,
          4.2,
          4.3,
          2.6,
          3.3,
          2.7,
          4.2,
          4,
          4,
          2.9,
          2.6,
          4.8,
          4.4,
          4,
          3.6,
          3.2,
          3.1,
          4.2,
          3,
          4.2,
          2.9,
          3.7,
          3.6,
          3.6,
          4.5,
          3.2,
          3.9,
          4.6,
          2.5,
          4.3,
          4.1,
          4.6,
          4.8,
          4.9,
          2.8,
          4.9,
          3.5,
          3.8,
          4.5,
          3.4,
          3.9,
          4.1,
          3,
          3.3,
          4.9,
          4.3,
          4.1,
          4,
          5,
          3.1,
          4,
          3.2,
          3.9,
          3.9,
          4.5,
          4.4,
          3.1,
          2.9,
          3.7,
          3.2,
          3.5,
          3,
          4.1,
          2.9,
          3.8,
          4.1,
          4.6,
          2.5,
          3.7,
          3.8,
          2.6,
          3.7,
          2.6,
          3.1,
          2.5,
          4.9,
          4.5,
          3.4,
          3.9,
          3.7,
          2.6,
          3.4,
          4.9,
          3.9,
          3.6,
          4.6,
          4,
          3.6,
          3.5,
          4.1,
          3,
          4.4,
          4.4,
          3.7,
          4.8,
          2.9,
          3.1,
          4,
          3,
          3.9,
          3.4,
          2.7,
          3.5,
          3,
          4.5,
          4.1,
          5,
          4,
          4.9,
          3.3,
          4.1,
          3.6,
          3,
          4.1,
          3.9,
          4.1,
          2.8,
          4.8,
          4.6,
          2.5,
          2.7,
          4,
          2.7,
          2.9,
          3,
          3.3,
          4.3,
          4.4,
          4.1,
          3.1,
          4.5,
          4.8,
          5,
          2.8,
          3.7,
          4.4,
          4.5,
          3,
          3.9,
          3.9,
          3.5,
          4.9,
          3.4,
          4.1,
          2.9,
          3.4,
          3.2,
          3.9,
          4.1,
          4.5,
          2.8,
          2.8,
          4.6,
          3,
          3.6,
          4.5,
          5,
          2.9,
          3.1,
          4,
          4.5,
          4.5,
          3.1,
          4.4,
          4.7,
          3.1,
          4.2,
          3,
          2.6,
          3.4,
          4.2,
          4.6,
          2.8,
          2.7,
          4,
          3.1,
          3.7,
          4,
          4.6,
          3.8,
          3.5,
          4.6,
          2.8,
          3.7,
          3.3,
          2.9,
          3.2,
          4.3,
          2.7,
          4.2,
          4.8,
          4.8,
          3.4,
          2.6,
          5,
          4.4,
          2.9,
          3.4,
          3.4,
          4.9,
          3.6,
          3,
          3.9,
          3.2,
          3.2,
          4.3,
          2.8,
          4.5,
          4.1,
          3.6,
          3,
          4,
          3.5,
          2.5,
          4.3,
          2.8,
          3.7,
          4.3,
          4,
          4.7,
          4.5,
          3.1,
          3.8,
          4.9,
          3.2,
          2.9,
          2.8,
          4,
          2.6,
          2.7,
          4.1,
          5,
          3,
          3.6,
          2.8,
          4.6,
          2.9,
          4.8,
          3.3,
          4.6,
          2.6,
          4,
          3.8,
          3.9,
          2.6,
          4.3,
          3.6,
          4.2,
          3.9,
          4.7,
          2.8,
          3,
          4.7,
          2.5,
          3.1,
          3.6,
          3.5,
          3.1,
          3.6,
          3.5,
          2.7,
          3.6,
          4.5,
          4.1,
          4.2,
          4,
          2.8,
          2.6,
          2.7,
          4.5,
          3.7,
          3.4,
          4.6,
          4.1,
          2.6,
          4.6,
          3,
          3.4,
          3.5,
          3.5,
          3.7,
          4.8,
          4.9,
          4.9,
          4.7,
          4.9,
          2.9,
          4.4,
          3.2,
          4.6,
          4,
          3.7,
          4.2,
          2.9,
          4.8,
          4.4,
          3.4,
          2.8,
          4.2,
          3.8,
          3.1,
          3.2,
          3,
          3.6,
          2.5,
          3.4,
          2.5,
          4.7,
          3.2,
          2.9,
          4.9,
          2.7,
          4.7,
          2.9,
          4.8,
          4.6,
          5,
          4.8,
          4.9,
          4.6,
          3.9,
          4.5,
          4.7,
          3.9,
          4.4,
          3.9,
          2.8,
          3.5,
          4.3,
          3.9,
          4,
          4.1,
          4.3,
          4.2,
          4,
          3.6,
          3.3,
          4.1,
          4.7,
          4.4,
          3.4,
          5,
          4.6,
          4,
          4.1,
          4.9,
          2.7,
          4.5,
          2.7,
          3,
          4.5,
          5,
          3.8,
          3.1,
          3.4,
          4.8,
          2.7,
          3.2,
          3.9,
          4.2,
          3,
          3,
          3.7,
          4.4,
          4.6,
          3,
          3.6,
          3.9,
          4.1,
          3.9,
          3.9,
          4.5,
          3.4,
          4.1,
          4.9,
          4.4,
          2.7,
          4.8,
          3.3,
          4.4,
          4.6,
          3.1,
          4.5,
          4,
          3.1,
          3.9,
          4.5,
          4.4,
          3.6,
          3.4,
          4,
          2.6,
          3.2,
          3.2,
          5,
          2.9,
          2.9,
          3.5,
          4,
          3.9,
          4.9,
          3.8,
          3.5,
          3.7,
          2.9,
          2.8,
          3.7,
          3,
          4.8,
          2.7,
          4.5,
          2.7,
          3.5,
          3.5,
          4.5,
          3.8,
          3.8,
          3.2,
          4.3,
          4.5,
          4.2,
          3,
          4.1,
          4.6,
          2.9,
          4.8,
          4.5,
          3.4,
          4.3,
          4.2,
          3.6,
          3.7,
          4,
          4.9,
          3.1,
          3.7,
          4.2,
          2.5,
          4.3,
          3.1,
          3,
          4,
          3.5,
          3.2,
          2.7,
          3,
          2.9,
          3.3,
          4.9,
          3.7,
          3.5,
          4.7,
          2.6,
          4.1,
          2.8,
          4.7,
          2.9,
          2.8,
          4.3,
          4.8,
          3.4,
          4.3,
          2.7,
          4.6,
          4.1,
          3.4,
          4.5,
          4.4,
          4,
          3.4,
          3.2,
          3.4,
          4.3,
          5,
          3.5,
          3.1,
          3.9,
          4,
          3.5,
          3.6,
          3,
          2.6,
          2.9,
          3.1,
          3.3,
          2.9,
          3.9,
          4.7,
          4.4,
          3.6,
          3.2,
          4,
          3.5,
          4.6,
          3.3,
          4,
          3.4,
          4.2,
          3.9,
          3.9,
          2.8,
          3.7,
          4.9,
          2.6,
          4.9,
          3.4,
          3.9,
          4,
          3,
          2.6,
          3.2,
          2.6,
          3.2,
          4.1,
          3.9,
          4.1,
          2.7,
          4.6,
          3.5,
          5,
          3.4,
          3.1,
          3.4,
          4,
          2.7,
          3.6,
          4,
          3.8,
          3.4,
          3.2,
          4.7,
          3.1,
          3.3,
          4.8,
          4.5,
          3.4,
          3.7,
          4.9,
          3.5,
          4.6,
          4.6,
          4.2,
          3.7,
          3,
          4.6,
          3.2,
          3.5,
          2.6,
          4.9,
          2.7,
          4.7,
          4,
          3.5,
          4.8,
          4,
          4.1,
          3.8,
          5,
          4,
          3.9,
          3.4,
          3,
          4.9,
          3.2,
          3.8,
          3.8,
          4.7,
          3.8,
          4.6,
          4.4,
          3.4,
          4.7,
          2.9,
          3.4,
          3.2,
          2.8,
          4.3,
          3.3,
          3.3,
          3.3,
          3,
          2.8,
          4,
          4.3,
          3.8,
          4.2,
          3.1,
          2.6,
          3.4,
          3.1,
          3.6,
          2.6,
          4.2,
          2.9,
          4.2,
          3.3,
          3.6,
          4.3,
          3.3,
          3,
          3.6,
          3.1,
          2.9,
          3.9,
          3.2,
          3.1,
          3.2,
          3.3,
          4.8,
          3.8,
          4.6,
          2.8,
          3.6,
          4.3,
          4,
          3.5,
          4.9,
          3.1,
          3.9,
          3,
          4.1,
          4.3,
          3.8,
          3.9,
          4.3,
          4.3,
          4.7,
          3.1,
          2.7,
          3.7,
          3.3,
          3.4,
          4.7,
          4.9,
          4.3,
          4.2,
          3.7,
          2.7,
          3.3,
          4.8,
          4.1,
          4.6,
          4.9,
          3.1,
          3,
          3.7,
          4,
          3,
          3.8,
          3.7,
          4,
          3.1,
          3.9,
          3.7,
          3.9,
          2.7,
          3.9,
          2.6,
          3.5,
          4.4,
          4.9,
          3.9,
          3.5,
          4.3,
          3.4,
          2.7,
          3.6,
          4.9,
          3.5,
          3.8,
          4.5,
          4,
          4.7,
          3.8,
          4.5,
          5,
          2.8,
          4.4,
          4.7,
          3.8,
          4.9,
          4.2,
          4.9,
          3.9,
          4.9,
          4.8,
          3.3,
          4.6,
          4.5,
          4.1,
          3.2,
          4.2,
          4.8,
          4.1,
          3.7,
          2.6,
          3,
          4.4,
          4.7,
          2.7,
          2.8,
          2.9,
          4.4,
          2.7,
          4.5,
          2.8,
          3.1,
          3.8,
          2.9,
          3.8,
          4.7,
          3.2,
          4,
          4.9,
          3.7,
          4.8,
          3.6,
          4.6,
          4.3,
          3.2,
          3.8,
          4.2,
          3.4,
          4.7,
          3.9,
          4.3,
          2.7,
          4.6,
          2.9,
          3.6,
          3.9,
          2.6,
          3.6,
          3.4,
          3.5,
          3.1,
          4.3,
          5,
          4.9,
          4.3,
          4.4,
          4.4,
          3.5,
          3.4,
          2.5,
          3.4,
          2.6,
          4.6,
          3.7,
          2.5,
          4.5,
          2.9,
          2.9,
          3.5,
          4.2,
          3.3,
          3.9,
          5,
          3.3,
          4.2,
          4.9,
          4.6,
          4.8,
          2.7,
          4.3,
          3.8,
          4.9,
          3.4,
          3.6,
          3.4,
          4.7,
          3,
          3.4,
          4.6,
          3.1,
          2.8,
          3.5,
          4.6,
          4.3,
          4.8,
          2.9,
          3,
          2.9,
          3.7,
          4.7,
          3.5,
          2.7,
          5,
          4.1,
          2.7,
          4.8,
          4.3,
          4.5,
          3.8,
          3.7,
          3.9,
          3.3,
          3.4,
          3.8,
          2.7,
          2.9,
          4.5,
          2.6,
          3.1,
          4.7,
          4.6,
          2.7,
          4.6,
          4.8,
          4.2,
          4.9,
          4.9,
          4.5,
          2.7,
          3.1,
          3.3,
          2.6,
          4.4,
          3.9,
          4.6,
          4.9,
          3.7,
          3.7,
          4.2,
          3.5,
          2.9,
          3.4,
          3.3,
          4.5,
          4.6,
          2.9,
          3.2,
          2.6,
          3.8,
          2.8,
          4.4,
          4.7,
          2.7,
          2.6,
          3.4,
          3.9,
          3.4,
          3.4,
          3.9,
          4,
          3.4,
          3.7,
          4.9,
          5,
          2.9,
          3,
          3.3,
          4.7,
          3.4,
          4.6,
          3.6,
          2.6,
          2.7,
          3.1,
          3.2,
          3.4,
          4.4,
          3.2,
          2.5,
          3.8,
          4.4,
          3.7,
          3.2,
          4.9,
          3.9,
          4.5,
          3.4,
          4.1,
          4.5,
          4.7,
          4.8,
          4.4,
          4,
          4.1,
          3.7,
          3,
          3.6,
          4.8,
          3.7,
          4.6,
          2.8,
          4,
          4.2,
          3.6,
          2.9,
          4.1,
          3.1,
          4.3,
          4.4,
          3.1,
          2.9,
          3.2,
          4,
          2.7,
          3,
          4.4,
          2.8,
          3.1,
          3.9,
          2.7,
          3.4,
          3.8,
          3.7,
          4.5,
          2.9,
          3.4,
          4.4,
          4.2,
          3.3,
          3.7,
          3.2,
          2.6,
          2.8,
          2.9,
          4,
          2.9,
          4.7,
          3.1,
          3.9,
          3.4,
          3.1,
          4.8,
          3.9,
          3.5,
          3.1,
          4.7,
          4.6,
          3.3,
          3.2,
          3.1,
          3.5,
          4.3,
          2.9,
          2.7,
          4,
          4.6,
          4.7,
          4.7,
          4,
          3.6,
          3.4,
          3,
          2.6,
          4.2,
          3.4,
          4,
          4.7,
          3.9,
          3.3,
          2.9,
          4.4,
          3.6,
          4.5,
          3.7,
          2.8,
          4.5,
          4.4,
          3.3,
          4.2,
          2.7,
          3.9,
          2.6,
          4.5,
          2.7,
          2.9,
          3.4,
          2.9,
          3.8,
          4.2,
          3.5,
          3.1,
          3.5,
          4,
          3.7,
          4.2,
          4.8,
          4.1,
          4.5,
          2.7,
          2.8,
          3.7,
          3.6,
          4.7,
          3.8,
          2.9,
          4.6,
          2.8,
          4.6,
          2.8,
          3,
          3.7,
          4.1,
          4.3,
          3.8,
          3.7,
          4.8,
          4.6,
          4.8,
          4.6,
          4,
          2.6,
          2.6,
          4.5,
          4.2,
          3.4,
          3.7,
          3.6,
          4,
          4.6,
          3,
          3.3,
          3.8,
          2.7,
          4.5,
          4.8,
          4.2,
          3.5,
          4.9,
          4.1,
          2.9,
          4,
          4.6,
          2.8,
          5,
          2.9,
          3.3,
          3.4,
          3,
          4.7,
          2.9,
          4.1,
          3.2,
          2.7,
          4.7,
          3.2,
          2.5,
          4.3,
          4.4,
          4.7,
          4,
          4.6,
          3.8,
          3.2,
          5,
          3.5,
          3.7,
          4.8,
          3.7,
          3.5,
          4.9,
          4.7,
          4.9,
          4.3,
          3.1,
          3.4,
          2.7,
          2.6,
          2.9,
          2.7,
          4.5,
          3.1,
          3.2,
          3.3,
          2.9,
          4.1,
          2.7,
          4,
          2.6,
          3.5,
          2.8,
          4.5,
          3,
          4.4,
          4.7,
          4.3,
          4.8,
          4.8,
          4.4,
          3.7,
          3.9,
          3.8,
          4.1,
          4,
          4.5,
          4,
          4.5,
          2.7,
          3.8,
          3.8,
          3.8,
          4.3,
          3.5,
          3.8,
          3.7,
          4.8,
          4.9,
          4.3,
          4.4,
          3.4,
          4.3,
          4.6,
          3.8,
          3.9,
          2.6,
          4.2,
          4.6,
          5,
          4.2,
          4.3,
          3.3,
          4.9,
          4.4,
          3.1,
          3.5,
          3.9,
          3.9,
          4.3,
          3.8,
          2.7,
          4.4,
          3.5,
          3.4,
          4,
          4.8,
          4.5,
          4.4,
          4.1,
          4.6,
          3.8,
          2.9,
          2.8,
          3,
          4.2,
          4.1,
          4.1,
          4.6,
          2.5,
          3,
          3.8,
          4.1,
          3.3,
          5,
          3.8,
          3.3,
          5,
          2.9,
          2.5,
          4.7,
          2.9,
          3.7,
          4.4,
          2.9,
          3.6,
          4.8,
          4.7,
          2.6,
          3.4,
          3.5,
          3.4,
          5,
          4.6,
          4.8,
          3.7,
          4.7,
          4.4,
          3.5,
          3.8,
          4.7,
          3.1,
          5,
          3.7,
          3,
          4.5,
          4.7,
          3.5,
          4.4,
          2.6,
          4.2,
          2.6,
          4.8,
          2.9,
          4.3,
          2.6,
          3.8,
          4.2,
          3.9,
          3.1,
          3.6,
          4,
          3.4,
          2.6,
          4.5,
          4.9,
          4.4,
          3.5,
          3.3,
          3.1,
          4.2,
          4.9,
          3.9,
          4.2,
          4.9,
          2.8,
          4.1,
          4.8,
          4.1,
          3,
          4.2,
          3.8,
          3.3,
          4.7,
          4.3,
          2.7,
          4.2,
          4.2,
          2.5,
          3.6,
          3.4,
          3.3,
          4.6,
          3.9,
          3.7,
          3.1,
          4.9,
          4.7,
          2.9,
          4.1,
          4,
          2.7,
          4,
          2.5,
          4.5,
          3.9,
          4.9,
          3.3,
          3.8,
          2.9,
          4,
          4.1,
          3.1,
          4.6,
          4.6,
          2.6,
          5,
          2.9,
          3.5,
          3.7,
          2.9,
          4.3,
          3.2,
          4.2,
          4.2,
          3.8,
          4.4,
          3.1,
          5,
          4.7,
          3,
          4.2,
          3,
          3.7,
          2.7,
          4.3,
          2.7,
          3.7,
          4.3,
          4,
          3.3,
          4,
          2.7,
          4.2,
          4.6,
          4.8,
          2.8,
          4.5,
          3,
          4.6,
          3.3,
          4.4,
          4.4,
          4.3,
          3.4,
          2.8,
          3.4,
          5,
          4.5,
          2.7,
          3.4,
          3.4,
          2.8,
          4.7,
          4.7,
          4.7,
          3.4,
          3.7,
          4.1,
          2.9,
          3.2,
          3,
          4.1,
          4.5,
          3.4,
          4.1,
          4.6,
          4.6,
          3.4,
          3.3,
          3.6,
          4.6,
          4.3,
          4,
          4.8,
          4.3,
          3.3,
          2.8,
          4.4,
          3.7,
          3.6,
          3.7,
          5,
          2.7,
          4.3,
          4.1,
          2.6,
          3.2,
          3.5,
          3.7,
          3.8,
          4.8,
          4.2,
          2.9,
          2.9,
          4.8,
          2.9,
          4.8,
          4.6,
          4.4,
          3,
          4.4,
          3.9,
          4,
          2.5,
          4.1,
          4.8,
          2.6,
          3.1,
          3.2,
          4.2,
          2.6,
          3.1,
          2.9,
          4.6,
          4.1,
          2.5,
          4,
          3.5,
          4.4,
          2.9,
          3.1,
          4.4,
          4.4,
          2.7,
          4.9,
          3.5,
          4.8,
          4.2,
          4.6,
          2.9,
          4,
          4.9,
          3.1,
          4.4,
          2.5,
          3.4,
          3.7,
          4.2,
          3.4,
          3.6,
          4.7,
          4.7,
          3.6,
          4.6,
          2.6,
          3.1,
          3.2,
          3.9,
          4.9,
          4.1,
          4.2,
          4.1,
          3.9,
          2.7,
          3.7,
          2.7,
          2.5,
          3.9,
          3,
          3.2,
          3.8,
          2.7,
          3,
          4.1,
          3.2,
          4.5,
          4.3,
          3.5,
          3.1,
          3.9,
          2.7,
          4,
          2.7,
          2.7,
          4.7,
          4.5,
          3,
          3.6,
          3.3,
          4.3,
          4.3,
          4.8,
          4,
          3.5,
          3.9,
          4.4,
          4.6,
          4,
          4.2,
          4.5,
          3.9,
          3.7,
          3.6,
          4.7,
          3.6,
          2.5,
          2.9,
          4.4,
          4.6,
          3.7,
          3.2,
          4.9,
          5,
          3.3,
          4.4,
          4.7,
          3.6,
          3.2,
          3,
          4.4,
          3.3,
          3.4,
          3.9,
          2.9,
          2.9,
          2.7,
          3.4,
          3.7,
          4.7,
          3.1,
          4.2,
          3,
          3.1,
          4.2,
          3.8,
          2.9,
          4.2,
          3.1,
          3.6,
          4.8,
          4.1,
          3.9,
          3,
          3,
          4.9,
          4.8,
          3.3,
          2.7,
          4.2,
          3.6,
          3.8,
          3.8,
          4.2,
          2.7,
          5,
          4.7,
          3.2,
          2.9,
          4.2,
          3.7,
          4.2,
          2.6,
          4,
          2.7,
          4,
          2.9,
          3.3,
          4,
          3.9,
          3.3,
          3.9,
          3.9,
          4.2,
          4.6,
          3.3,
          4.8,
          4.1,
          3.4,
          3.6,
          2.7,
          3.2,
          4.4,
          4.9,
          4.8,
          2.8,
          2.9,
          3.2,
          3.5,
          4.1,
          4.1,
          4.8,
          2.8,
          4.7,
          4.8,
          2.9,
          2.6,
          3.3,
          3.4,
          3.6,
          3.8,
          3.4,
          3.8,
          3.3,
          4.8,
          3.9,
          4.2,
          4.7,
          2.7,
          3.8,
          3.6,
          2.9,
          3.9,
          4.7,
          3.3,
          4.2,
          2.6,
          4.9,
          3.6,
          4.7,
          3.2,
          3.6,
          3.6,
          3.2,
          2.8,
          4,
          4.4,
          3.4,
          5,
          3.1,
          4.2,
          3.3,
          2.9,
          4.7,
          4,
          4.6,
          3.8,
          3.6,
          4.1,
          2.7,
          4.3,
          4.9,
          4.2,
          2.8,
          4.9,
          2.8,
          2.9,
          2.5,
          2.7,
          3.3,
          3.7,
          4,
          4.1,
          4.1,
          2.5,
          4.2,
          4.7,
          2.7,
          3,
          4.8,
          4.4,
          4.3,
          2.5,
          4.9,
          4.9,
          3.9,
          4.1,
          3.3,
          4.1,
          3.7,
          3.1,
          3,
          3.4,
          2.7,
          3.1,
          4,
          3.6,
          3.6,
          3.3,
          4.1,
          4.3,
          3.2,
          3.9,
          5,
          3.4,
          3.8,
          2.9,
          2.6,
          4.3,
          2.8,
          4.5,
          3.8,
          3,
          3.3,
          3.1,
          3.5,
          4.6,
          4.1,
          3.6,
          2.9,
          4.8,
          3.2,
          4.3,
          4.1,
          4.6,
          3.8,
          4.5,
          3.1,
          2.9,
          3.8,
          4.1,
          3.1,
          5,
          4.5,
          2.8,
          3.2,
          3.1,
          3.3,
          3.4,
          3.8,
          3.5,
          4.8,
          3.9,
          3.4,
          2.6,
          3.1,
          3.3,
          2.8,
          4.3,
          2.7,
          4.4,
          3.9,
          3,
          4,
          3.7,
          3.8,
          3.3,
          3.6,
          3.9,
          3.5,
          3.4,
          4.7,
          3,
          3.9,
          4.5,
          4.1,
          4.5,
          4,
          4.3,
          3.6,
          3.1,
          2.6,
          3.4,
          2.9,
          5,
          4.6,
          3.3,
          2.9,
          4.9,
          5,
          4.5,
          3.7,
          2.8,
          3.5,
          3,
          4.3,
          3.6,
          4.4,
          4.1,
          2.8,
          2.8,
          4.9,
          4.1,
          3,
          3,
          3,
          3.2,
          2.7,
          3.8,
          3.5,
          3.8,
          3.8,
          3.4,
          2.9,
          3.4,
          4.7,
          3.9,
          3.6,
          3.7,
          3.1,
          4.9,
          2.6,
          4.2,
          4.8,
          2.7,
          2.6,
          2.6,
          3.1,
          2.6,
          3.4,
          3.6,
          4.3,
          4.9,
          4.8,
          4.2,
          2.6,
          3.2,
          3.4,
          3.5,
          4.2,
          2.8,
          5,
          3.3,
          3.7,
          2.5,
          3.2,
          3.1,
          3.5,
          4.6,
          3.3,
          2.5,
          4.6,
          4.2,
          4,
          2.6,
          4.6,
          3.5,
          4,
          4.8,
          3.9,
          3.7,
          3.1,
          3,
          2.9,
          2.9,
          4,
          3.5,
          3.8,
          4.5,
          2.7,
          2.9,
          4.9,
          3.8,
          4.9,
          4.6,
          3.5,
          4.2,
          3.7,
          2.8,
          4.8,
          2.7,
          3.6,
          4.5,
          4,
          4.5,
          3.9,
          3.8,
          4.7,
          4.6,
          3.6,
          4.3,
          3,
          4.3,
          4.8,
          3.7,
          2.6,
          3.4,
          3.9,
          4.8,
          2.8,
          4.4,
          3.1,
          3.8,
          4.1,
          4.6,
          4.9,
          4.8,
          3.9,
          2.6,
          3.7,
          4.7,
          4.5,
          4.7,
          3.6,
          2.8,
          4,
          3.6,
          3.8,
          4.4,
          2.8,
          3.4,
          4.9,
          4.3,
          3.4,
          3.9,
          4.2,
          2.7,
          4.1,
          4.5,
          2.8,
          3.4,
          3.9,
          2.6,
          4.4,
          4.9,
          3.6,
          2.8,
          4.3,
          3,
          3.3,
          2.5,
          5,
          4.3,
          4.2,
          3.9,
          3.9,
          4.2,
          3.5,
          2.5,
          2.9,
          2.7,
          4.7,
          3.8,
          3.7,
          4.7,
          3.6,
          2.8,
          3.7,
          3.5,
          3.7,
          3,
          4.9,
          4.6,
          3.3,
          3,
          3.5,
          4.2,
          4.5,
          2.8,
          4.9,
          3.3,
          3,
          3.9,
          2.8,
          4.5,
          4,
          2.9,
          4,
          3.4,
          2.5,
          2.8,
          3,
          3.1,
          2.6,
          4.9,
          3.5,
          2.6,
          3.5,
          4.5,
          4.3,
          4.8,
          4.2,
          3.2,
          4.1,
          4,
          2.9,
          2.6,
          2.7,
          4.6,
          3.2,
          4.1,
          3.9,
          3,
          3.6,
          4.6,
          4.5,
          3.2,
          4.9,
          5,
          3.8,
          3.4,
          3.8,
          3.2,
          4.7,
          4.5,
          3.3,
          3.9,
          3.6,
          2.8,
          4.3,
          3.5,
          4.2,
          4.6,
          2.6,
          3.4,
          3.1,
          3.6,
          4.2,
          3.6,
          3.6,
          3,
          2.5,
          4,
          4.1,
          4.9,
          4,
          3.5,
          3.2,
          2.8,
          3.5,
          3.1,
          3.3,
          4.6,
          4.9,
          3.4,
          3.5,
          4.8,
          2.7,
          3.4,
          3.5,
          3.7,
          3.3,
          2.9,
          3.9,
          2.7,
          4.3,
          3,
          5,
          2.7,
          4.7,
          4.6,
          3.2,
          4.3,
          4.6,
          4.9,
          3.8,
          2.6,
          4.7,
          4.1,
          3.7,
          3,
          4.7,
          4.7,
          4,
          2.6,
          3,
          3.3,
          3.4,
          4,
          2.6,
          3.4,
          4.4,
          4.7,
          4.5,
          2.9,
          4.2,
          4.1,
          4.4,
          4.7,
          3.1,
          2.7,
          4.6,
          4.4,
          4.6,
          4.9,
          4,
          2.9,
          2.6,
          4.6,
          4.9,
          4.3,
          4.3,
          4.6,
          2.6,
          3.1,
          3.1,
          3.1,
          4.4,
          4.3,
          3.1,
          3.1,
          4.9,
          2.9,
          3.8,
          4.2,
          3.9,
          2.8,
          2.6,
          3,
          2.7,
          2.8,
          2.9,
          3.8,
          4.4,
          3.1,
          3.7,
          4.9,
          3.8,
          3.4,
          4.6,
          3.2,
          2.7,
          4.3,
          3.8,
          4.4,
          3.6,
          3.5,
          4.2,
          4.7,
          4.8,
          3.2,
          3.5,
          4.2,
          3.4,
          4.7,
          3,
          4,
          4.6,
          4.9,
          2.8,
          3.2,
          2.8,
          4.2,
          4.8,
          2.8,
          4.5,
          4.1,
          4.3,
          4.4,
          3,
          2.7,
          3.3,
          4.3,
          2.9,
          4.9,
          3.6,
          3.3,
          3.1,
          2.7,
          3.4,
          3.4,
          3.9,
          3.5,
          4.1,
          3.2,
          4.6,
          3.9,
          2.7,
          3,
          3.3,
          2.7,
          4.6,
          2.7,
          2.5,
          4.4,
          4,
          3.8,
          2.5,
          4,
          4.1,
          2.8,
          3.4,
          2.7,
          3.8,
          4.4,
          2.8,
          5,
          4.7,
          3.2,
          2.9,
          3.7,
          4.2,
          3.4,
          2.9,
          3.7,
          2.7,
          3.2,
          4.9,
          2.8,
          4.7,
          3.3,
          4.3,
          3.7,
          4.5,
          3.4,
          2.7,
          4.4,
          4,
          3.2,
          4.2,
          3,
          2.8,
          4.9,
          4.7,
          4.4,
          3.1,
          2.6,
          3.9,
          2.6,
          4,
          4.9,
          3.3,
          3,
          2.7,
          3.1,
          4.8,
          2.9,
          4.5,
          4.6,
          5,
          4.3,
          4.9,
          4,
          3.1,
          2.6,
          4.9,
          3.5,
          4.5,
          2.8,
          4.2,
          4.1,
          3.5,
          4,
          4,
          2.5,
          4.2,
          3.4,
          4.8,
          4.9,
          3.6,
          4,
          2.6,
          3.1,
          3.6,
          4,
          3.9,
          3.9,
          3.3,
          2.9,
          3.1,
          4.7,
          3.9,
          4.3,
          4.2,
          4.3,
          4.6,
          3.8,
          3.3,
          3.7,
          4.3,
          4.1,
          3.2,
          3.8,
          3.2,
          3.5,
          3.1,
          4.2,
          3.4,
          3.5,
          4,
          4.4,
          2.9,
          3.6,
          4.4,
          4.5,
          3.8,
          3.6,
          4.3,
          4,
          3.4,
          4.4,
          2.8,
          2.8,
          4.9,
          4.2,
          2.9,
          4.6,
          2.8,
          2.6,
          3.5,
          3.5,
          3.4,
          3.9,
          3.3,
          4.1,
          3,
          3,
          3.2,
          3.9,
          3.6,
          3.1,
          4.8,
          3.8,
          2.8,
          4,
          4.6,
          3.5,
          3.7,
          4.9,
          4.1,
          4.6,
          4.5,
          5,
          3.8,
          4.7,
          2.8,
          2.6,
          3.8,
          2.8,
          2.6,
          3.4,
          4.5,
          3.8,
          3,
          3.7,
          4.4,
          3.1,
          4.2,
          3.1,
          5,
          2.7,
          3.8,
          3.3,
          4.8,
          3.4,
          4.4,
          3.9,
          3.9,
          4.2,
          4,
          2.6,
          4.4,
          3.2,
          4.3,
          4.9,
          3.8,
          2.5,
          4.9,
          3,
          3.2,
          2.9,
          2.8,
          3.1,
          3.4,
          2.9,
          3.2,
          3.8,
          3.6,
          4.3,
          4.8,
          2.5,
          2.5,
          4.6,
          4.2,
          4.2,
          4.8,
          4.5,
          3.3,
          2.7,
          2.8,
          3.5,
          3,
          4.5,
          4.3,
          4.1,
          4.3,
          5,
          3.8,
          4.9,
          5,
          4.3,
          4.1,
          4.5,
          3.6,
          3,
          3.7,
          4.3,
          4.6,
          4.7,
          4.6,
          3,
          3.4,
          3.8,
          3.1,
          4.4,
          4.5,
          2.8,
          2.7,
          3.4,
          4.6,
          5,
          3.5,
          3.3,
          4.5,
          3.1,
          4,
          2.5,
          4.4,
          4.4,
          3.2,
          3.8,
          4.6,
          4.9,
          3.5,
          3.4,
          3.9,
          3.9,
          4.2,
          3.4,
          4.9,
          2.9,
          4.9,
          4.6,
          3.6,
          4.3,
          4.6,
          4.7,
          3.5,
          2.8,
          4,
          4.3,
          3.8,
          3,
          4.6,
          4.8,
          4.7,
          3.9,
          4,
          3.7,
          3.7,
          4.2,
          4.7,
          4.3,
          4.9,
          3.9,
          3.4,
          4.2,
          4.7,
          4,
          4,
          3.1,
          4.2,
          3.7,
          3.1,
          3.7,
          3.2,
          2.8,
          2.9,
          3.5,
          3.8,
          4.7,
          4.5,
          3.9,
          3.4,
          4.6,
          4.6,
          4.7,
          3.2,
          5,
          4.5,
          3.5,
          4.5,
          3.2,
          4.6,
          4,
          4.2,
          4.1,
          3.6,
          3.7,
          3.6,
          3.8,
          3,
          3.4,
          4.8,
          2.6,
          2.9,
          4.9,
          5,
          4.6,
          4.2,
          4.9,
          4.8,
          3,
          3.5,
          3.4,
          3.4,
          4.9,
          4.4,
          4.2,
          3.1,
          4,
          4.8,
          3.3,
          4.7,
          3.2,
          5,
          4.9,
          4.9,
          3.7,
          3,
          2.6,
          2.6,
          4.8,
          3.2,
          4.9,
          3.4,
          2.7,
          4.8,
          4.1,
          4.6,
          4.4,
          3.5,
          4.8,
          2.9,
          3.2,
          4.4,
          4.6,
          2.6,
          3.1,
          4.3,
          3.1,
          4.6,
          4.6,
          2.7,
          3,
          3.3,
          2.7,
          3.3,
          4.3,
          4.8,
          3.3,
          4.3,
          3,
          4.8,
          2.9,
          3.6,
          3.5,
          4.7,
          4.4,
          3.3,
          4.3,
          4,
          4.9,
          2.9,
          4,
          4.3,
          2.7,
          5,
          4.4,
          3.5,
          3.3,
          3.8,
          4.5,
          4.8,
          2.9,
          3.2,
          2.8,
          3.3,
          3.3,
          4.2,
          3.6,
          4.6,
          3.6,
          4,
          2.7,
          4.4,
          3.2,
          2.6,
          3.4,
          5,
          2.9,
          5,
          4.4,
          3.5,
          3.8,
          3.8,
          3.9,
          3.3,
          2.9,
          3.7,
          3.7,
          4.6,
          4.9,
          3.1,
          3.5,
          4.9,
          4.4,
          4.4,
          3.4,
          3,
          2.6,
          3.2,
          4.6,
          3.8,
          4.8,
          4.5,
          4.2,
          2.7,
          4.5,
          4.9,
          2.8,
          3.5,
          2.5,
          2.9,
          4.2,
          4.6,
          3,
          4.4,
          2.6,
          4.8,
          2.9,
          3,
          4.5,
          3.7,
          4.8,
          4.8,
          4.7,
          2.6,
          4.6,
          3.4,
          3,
          4,
          2.6,
          3.4,
          4.5,
          2.7,
          2.9,
          4,
          3.2,
          4,
          3.4,
          4.9,
          3.6,
          3.6,
          3.2,
          3.7,
          2.6,
          3.9,
          3.4,
          3.4,
          4.2,
          2.9,
          4.1,
          3.6,
          4,
          4,
          3.6,
          3.1,
          4.4,
          4.3,
          3.5,
          3,
          4.7,
          2.5,
          3.1,
          3.3,
          4.7,
          3.4,
          3.1,
          4.6,
          4.9,
          2.7,
          4.2,
          2.6,
          3.2,
          4.4,
          3.6,
          2.7,
          4.3,
          2.6,
          4.3,
          3.9,
          2.9,
          3.1,
          4.2,
          4.1,
          4.2,
          4.4,
          3.4,
          4.8,
          4.5,
          2.7,
          3.5,
          3.1,
          2.8,
          2.9,
          4.5,
          3.5,
          4.3,
          4.9,
          3.1,
          4,
          3.6,
          4,
          2.6,
          3.1,
          3.5,
          3.9,
          2.7,
          4.1,
          4.3,
          2.9,
          4,
          4.1,
          3.7,
          2.8,
          3.2,
          4.5,
          3.8,
          3.6,
          3.6,
          3.2,
          3.8,
          4.4,
          3.7,
          2.6,
          4,
          3.6,
          2.5,
          3.2,
          2.5,
          3.2,
          2.6,
          4.8,
          5,
          3.2,
          3.6,
          2.7,
          3.1,
          3,
          2.9,
          4.7,
          3.7,
          3.9,
          4,
          2.8,
          4.1,
          4.2,
          4.3,
          4.3,
          2.6,
          3.8,
          2.9,
          5,
          4.6,
          3.2,
          3,
          4,
          4.1,
          4,
          4.1,
          3.4,
          2.9,
          3,
          4,
          4.8,
          4.6,
          4.1,
          2.6,
          2.5,
          4.8,
          4.2,
          3.9,
          3.7,
          4.2,
          4.2,
          4,
          5,
          4.9,
          4,
          3.2,
          3,
          2.6,
          4.4,
          3.9,
          4,
          4,
          4.2,
          4.4,
          2.5,
          3.1,
          3.5,
          3,
          4.4,
          4.9,
          2.8,
          3.3,
          4.9,
          4.2,
          3.3,
          2.7,
          3.3,
          3.8,
          3.2,
          4.1,
          4.3,
          4,
          3.9,
          3.3,
          2.6,
          4.2,
          3.4,
          4.1,
          3.9,
          2.8,
          2.6,
          4,
          4.9,
          3.2,
          3.9,
          2.7,
          3.4,
          3.5,
          2.6,
          4.7,
          3.5,
          3.3,
          3.9,
          4.2,
          4.5,
          2.9,
          3.8,
          3.1
         ],
         "xaxis": "x",
         "yaxis": "y"
        }
       ],
       "layout": {
        "barmode": "relative",
        "hoverlabel": {
         "bgcolor": "white",
         "font": {
          "family": "Rockwell",
          "size": 16
         }
        },
        "legend": {
         "tracegroupgap": 0
        },
        "margin": {
         "t": 60
        },
        "template": {
         "data": {
          "bar": [
           {
            "error_x": {
             "color": "#2a3f5f"
            },
            "error_y": {
             "color": "#2a3f5f"
            },
            "marker": {
             "line": {
              "color": "white",
              "width": 0.5
             },
             "pattern": {
              "fillmode": "overlay",
              "size": 10,
              "solidity": 0.2
             }
            },
            "type": "bar"
           }
          ],
          "barpolar": [
           {
            "marker": {
             "line": {
              "color": "white",
              "width": 0.5
             },
             "pattern": {
              "fillmode": "overlay",
              "size": 10,
              "solidity": 0.2
             }
            },
            "type": "barpolar"
           }
          ],
          "carpet": [
           {
            "aaxis": {
             "endlinecolor": "#2a3f5f",
             "gridcolor": "#C8D4E3",
             "linecolor": "#C8D4E3",
             "minorgridcolor": "#C8D4E3",
             "startlinecolor": "#2a3f5f"
            },
            "baxis": {
             "endlinecolor": "#2a3f5f",
             "gridcolor": "#C8D4E3",
             "linecolor": "#C8D4E3",
             "minorgridcolor": "#C8D4E3",
             "startlinecolor": "#2a3f5f"
            },
            "type": "carpet"
           }
          ],
          "choropleth": [
           {
            "colorbar": {
             "outlinewidth": 0,
             "ticks": ""
            },
            "type": "choropleth"
           }
          ],
          "contour": [
           {
            "colorbar": {
             "outlinewidth": 0,
             "ticks": ""
            },
            "colorscale": [
             [
              0,
              "#0d0887"
             ],
             [
              0.1111111111111111,
              "#46039f"
             ],
             [
              0.2222222222222222,
              "#7201a8"
             ],
             [
              0.3333333333333333,
              "#9c179e"
             ],
             [
              0.4444444444444444,
              "#bd3786"
             ],
             [
              0.5555555555555556,
              "#d8576b"
             ],
             [
              0.6666666666666666,
              "#ed7953"
             ],
             [
              0.7777777777777778,
              "#fb9f3a"
             ],
             [
              0.8888888888888888,
              "#fdca26"
             ],
             [
              1,
              "#f0f921"
             ]
            ],
            "type": "contour"
           }
          ],
          "contourcarpet": [
           {
            "colorbar": {
             "outlinewidth": 0,
             "ticks": ""
            },
            "type": "contourcarpet"
           }
          ],
          "heatmap": [
           {
            "colorbar": {
             "outlinewidth": 0,
             "ticks": ""
            },
            "colorscale": [
             [
              0,
              "#0d0887"
             ],
             [
              0.1111111111111111,
              "#46039f"
             ],
             [
              0.2222222222222222,
              "#7201a8"
             ],
             [
              0.3333333333333333,
              "#9c179e"
             ],
             [
              0.4444444444444444,
              "#bd3786"
             ],
             [
              0.5555555555555556,
              "#d8576b"
             ],
             [
              0.6666666666666666,
              "#ed7953"
             ],
             [
              0.7777777777777778,
              "#fb9f3a"
             ],
             [
              0.8888888888888888,
              "#fdca26"
             ],
             [
              1,
              "#f0f921"
             ]
            ],
            "type": "heatmap"
           }
          ],
          "heatmapgl": [
           {
            "colorbar": {
             "outlinewidth": 0,
             "ticks": ""
            },
            "colorscale": [
             [
              0,
              "#0d0887"
             ],
             [
              0.1111111111111111,
              "#46039f"
             ],
             [
              0.2222222222222222,
              "#7201a8"
             ],
             [
              0.3333333333333333,
              "#9c179e"
             ],
             [
              0.4444444444444444,
              "#bd3786"
             ],
             [
              0.5555555555555556,
              "#d8576b"
             ],
             [
              0.6666666666666666,
              "#ed7953"
             ],
             [
              0.7777777777777778,
              "#fb9f3a"
             ],
             [
              0.8888888888888888,
              "#fdca26"
             ],
             [
              1,
              "#f0f921"
             ]
            ],
            "type": "heatmapgl"
           }
          ],
          "histogram": [
           {
            "marker": {
             "pattern": {
              "fillmode": "overlay",
              "size": 10,
              "solidity": 0.2
             }
            },
            "type": "histogram"
           }
          ],
          "histogram2d": [
           {
            "colorbar": {
             "outlinewidth": 0,
             "ticks": ""
            },
            "colorscale": [
             [
              0,
              "#0d0887"
             ],
             [
              0.1111111111111111,
              "#46039f"
             ],
             [
              0.2222222222222222,
              "#7201a8"
             ],
             [
              0.3333333333333333,
              "#9c179e"
             ],
             [
              0.4444444444444444,
              "#bd3786"
             ],
             [
              0.5555555555555556,
              "#d8576b"
             ],
             [
              0.6666666666666666,
              "#ed7953"
             ],
             [
              0.7777777777777778,
              "#fb9f3a"
             ],
             [
              0.8888888888888888,
              "#fdca26"
             ],
             [
              1,
              "#f0f921"
             ]
            ],
            "type": "histogram2d"
           }
          ],
          "histogram2dcontour": [
           {
            "colorbar": {
             "outlinewidth": 0,
             "ticks": ""
            },
            "colorscale": [
             [
              0,
              "#0d0887"
             ],
             [
              0.1111111111111111,
              "#46039f"
             ],
             [
              0.2222222222222222,
              "#7201a8"
             ],
             [
              0.3333333333333333,
              "#9c179e"
             ],
             [
              0.4444444444444444,
              "#bd3786"
             ],
             [
              0.5555555555555556,
              "#d8576b"
             ],
             [
              0.6666666666666666,
              "#ed7953"
             ],
             [
              0.7777777777777778,
              "#fb9f3a"
             ],
             [
              0.8888888888888888,
              "#fdca26"
             ],
             [
              1,
              "#f0f921"
             ]
            ],
            "type": "histogram2dcontour"
           }
          ],
          "mesh3d": [
           {
            "colorbar": {
             "outlinewidth": 0,
             "ticks": ""
            },
            "type": "mesh3d"
           }
          ],
          "parcoords": [
           {
            "line": {
             "colorbar": {
              "outlinewidth": 0,
              "ticks": ""
             }
            },
            "type": "parcoords"
           }
          ],
          "pie": [
           {
            "automargin": true,
            "type": "pie"
           }
          ],
          "scatter": [
           {
            "fillpattern": {
             "fillmode": "overlay",
             "size": 10,
             "solidity": 0.2
            },
            "type": "scatter"
           }
          ],
          "scatter3d": [
           {
            "line": {
             "colorbar": {
              "outlinewidth": 0,
              "ticks": ""
             }
            },
            "marker": {
             "colorbar": {
              "outlinewidth": 0,
              "ticks": ""
             }
            },
            "type": "scatter3d"
           }
          ],
          "scattercarpet": [
           {
            "marker": {
             "colorbar": {
              "outlinewidth": 0,
              "ticks": ""
             }
            },
            "type": "scattercarpet"
           }
          ],
          "scattergeo": [
           {
            "marker": {
             "colorbar": {
              "outlinewidth": 0,
              "ticks": ""
             }
            },
            "type": "scattergeo"
           }
          ],
          "scattergl": [
           {
            "marker": {
             "colorbar": {
              "outlinewidth": 0,
              "ticks": ""
             }
            },
            "type": "scattergl"
           }
          ],
          "scattermapbox": [
           {
            "marker": {
             "colorbar": {
              "outlinewidth": 0,
              "ticks": ""
             }
            },
            "type": "scattermapbox"
           }
          ],
          "scatterpolar": [
           {
            "marker": {
             "colorbar": {
              "outlinewidth": 0,
              "ticks": ""
             }
            },
            "type": "scatterpolar"
           }
          ],
          "scatterpolargl": [
           {
            "marker": {
             "colorbar": {
              "outlinewidth": 0,
              "ticks": ""
             }
            },
            "type": "scatterpolargl"
           }
          ],
          "scatterternary": [
           {
            "marker": {
             "colorbar": {
              "outlinewidth": 0,
              "ticks": ""
             }
            },
            "type": "scatterternary"
           }
          ],
          "surface": [
           {
            "colorbar": {
             "outlinewidth": 0,
             "ticks": ""
            },
            "colorscale": [
             [
              0,
              "#0d0887"
             ],
             [
              0.1111111111111111,
              "#46039f"
             ],
             [
              0.2222222222222222,
              "#7201a8"
             ],
             [
              0.3333333333333333,
              "#9c179e"
             ],
             [
              0.4444444444444444,
              "#bd3786"
             ],
             [
              0.5555555555555556,
              "#d8576b"
             ],
             [
              0.6666666666666666,
              "#ed7953"
             ],
             [
              0.7777777777777778,
              "#fb9f3a"
             ],
             [
              0.8888888888888888,
              "#fdca26"
             ],
             [
              1,
              "#f0f921"
             ]
            ],
            "type": "surface"
           }
          ],
          "table": [
           {
            "cells": {
             "fill": {
              "color": "#EBF0F8"
             },
             "line": {
              "color": "white"
             }
            },
            "header": {
             "fill": {
              "color": "#C8D4E3"
             },
             "line": {
              "color": "white"
             }
            },
            "type": "table"
           }
          ]
         },
         "layout": {
          "annotationdefaults": {
           "arrowcolor": "#2a3f5f",
           "arrowhead": 0,
           "arrowwidth": 1
          },
          "autotypenumbers": "strict",
          "coloraxis": {
           "colorbar": {
            "outlinewidth": 0,
            "ticks": ""
           }
          },
          "colorscale": {
           "diverging": [
            [
             0,
             "#8e0152"
            ],
            [
             0.1,
             "#c51b7d"
            ],
            [
             0.2,
             "#de77ae"
            ],
            [
             0.3,
             "#f1b6da"
            ],
            [
             0.4,
             "#fde0ef"
            ],
            [
             0.5,
             "#f7f7f7"
            ],
            [
             0.6,
             "#e6f5d0"
            ],
            [
             0.7,
             "#b8e186"
            ],
            [
             0.8,
             "#7fbc41"
            ],
            [
             0.9,
             "#4d9221"
            ],
            [
             1,
             "#276419"
            ]
           ],
           "sequential": [
            [
             0,
             "#0d0887"
            ],
            [
             0.1111111111111111,
             "#46039f"
            ],
            [
             0.2222222222222222,
             "#7201a8"
            ],
            [
             0.3333333333333333,
             "#9c179e"
            ],
            [
             0.4444444444444444,
             "#bd3786"
            ],
            [
             0.5555555555555556,
             "#d8576b"
            ],
            [
             0.6666666666666666,
             "#ed7953"
            ],
            [
             0.7777777777777778,
             "#fb9f3a"
            ],
            [
             0.8888888888888888,
             "#fdca26"
            ],
            [
             1,
             "#f0f921"
            ]
           ],
           "sequentialminus": [
            [
             0,
             "#0d0887"
            ],
            [
             0.1111111111111111,
             "#46039f"
            ],
            [
             0.2222222222222222,
             "#7201a8"
            ],
            [
             0.3333333333333333,
             "#9c179e"
            ],
            [
             0.4444444444444444,
             "#bd3786"
            ],
            [
             0.5555555555555556,
             "#d8576b"
            ],
            [
             0.6666666666666666,
             "#ed7953"
            ],
            [
             0.7777777777777778,
             "#fb9f3a"
            ],
            [
             0.8888888888888888,
             "#fdca26"
            ],
            [
             1,
             "#f0f921"
            ]
           ]
          },
          "colorway": [
           "#636efa",
           "#EF553B",
           "#00cc96",
           "#ab63fa",
           "#FFA15A",
           "#19d3f3",
           "#FF6692",
           "#B6E880",
           "#FF97FF",
           "#FECB52"
          ],
          "font": {
           "color": "#2a3f5f"
          },
          "geo": {
           "bgcolor": "white",
           "lakecolor": "white",
           "landcolor": "white",
           "showlakes": true,
           "showland": true,
           "subunitcolor": "#C8D4E3"
          },
          "hoverlabel": {
           "align": "left"
          },
          "hovermode": "closest",
          "mapbox": {
           "style": "light"
          },
          "paper_bgcolor": "white",
          "plot_bgcolor": "white",
          "polar": {
           "angularaxis": {
            "gridcolor": "#EBF0F8",
            "linecolor": "#EBF0F8",
            "ticks": ""
           },
           "bgcolor": "white",
           "radialaxis": {
            "gridcolor": "#EBF0F8",
            "linecolor": "#EBF0F8",
            "ticks": ""
           }
          },
          "scene": {
           "xaxis": {
            "backgroundcolor": "white",
            "gridcolor": "#DFE8F3",
            "gridwidth": 2,
            "linecolor": "#EBF0F8",
            "showbackground": true,
            "ticks": "",
            "zerolinecolor": "#EBF0F8"
           },
           "yaxis": {
            "backgroundcolor": "white",
            "gridcolor": "#DFE8F3",
            "gridwidth": 2,
            "linecolor": "#EBF0F8",
            "showbackground": true,
            "ticks": "",
            "zerolinecolor": "#EBF0F8"
           },
           "zaxis": {
            "backgroundcolor": "white",
            "gridcolor": "#DFE8F3",
            "gridwidth": 2,
            "linecolor": "#EBF0F8",
            "showbackground": true,
            "ticks": "",
            "zerolinecolor": "#EBF0F8"
           }
          },
          "shapedefaults": {
           "line": {
            "color": "#2a3f5f"
           }
          },
          "ternary": {
           "aaxis": {
            "gridcolor": "#DFE8F3",
            "linecolor": "#A2B1C6",
            "ticks": ""
           },
           "baxis": {
            "gridcolor": "#DFE8F3",
            "linecolor": "#A2B1C6",
            "ticks": ""
           },
           "bgcolor": "white",
           "caxis": {
            "gridcolor": "#DFE8F3",
            "linecolor": "#A2B1C6",
            "ticks": ""
           }
          },
          "title": {
           "x": 0.05
          },
          "xaxis": {
           "automargin": true,
           "gridcolor": "#EBF0F8",
           "linecolor": "#EBF0F8",
           "ticks": "",
           "title": {
            "standoff": 15
           },
           "zerolinecolor": "#EBF0F8",
           "zerolinewidth": 2
          },
          "yaxis": {
           "automargin": true,
           "gridcolor": "#EBF0F8",
           "linecolor": "#EBF0F8",
           "ticks": "",
           "title": {
            "standoff": 15
           },
           "zerolinecolor": "#EBF0F8",
           "zerolinewidth": 2
          }
         }
        },
        "title": {
         "text": "Distribucion de las reviews"
        },
        "xaxis": {
         "anchor": "y",
         "domain": [
          0,
          1
         ],
         "title": {
          "text": "Rating"
         }
        },
        "yaxis": {
         "anchor": "x",
         "domain": [
          0,
          1
         ],
         "title": {
          "text": "Cantidad"
         }
        }
       }
      }
     },
     "metadata": {},
     "output_type": "display_data"
    }
   ],
   "source": [
    "# Items por review\n",
    "fig_ratings = px.histogram(raw_data, x=\"Review Rating\", nbins=10,color_discrete_sequence=['#FFA07A'])\n",
    "fig_ratings.update_traces(marker_line_color='black', marker_line_width=1.5)\n",
    "fig_ratings.update_layout(\n",
    "    title=\"Distribucion de las reviews\",\n",
    "    xaxis_title=\"Rating\",\n",
    "    yaxis_title=\"Cantidad\",\n",
    "    template=\"plotly_white\",\n",
    "    hoverlabel=dict(\n",
    "        bgcolor=\"white\",\n",
    "        font_size=16,\n",
    "        font_family=\"Rockwell\"\n",
    "    )\n",
    ")\n",
    "fig_ratings.show()"
   ]
  },
  {
   "cell_type": "code",
   "execution_count": 25,
   "metadata": {},
   "outputs": [
    {
     "data": {
      "application/vnd.plotly.v1+json": {
       "config": {
        "plotlyServerURL": "https://plot.ly"
       },
       "data": [
        {
         "domain": {
          "x": [
           0,
           1
          ],
          "y": [
           0,
           1
          ]
         },
         "hovertemplate": "Payment Method=%{label}<br>Count=%{value}<extra></extra>",
         "labels": [
          "Credit Card",
          "Venmo",
          "Cash",
          "PayPal",
          "Debit Card",
          "Bank Transfer"
         ],
         "legendgroup": "",
         "name": "",
         "showlegend": true,
         "type": "pie",
         "values": [
          696,
          653,
          648,
          638,
          633,
          632
         ]
        }
       ],
       "layout": {
        "legend": {
         "tracegroupgap": 0
        },
        "piecolorway": [
         "rgb(103,0,31)",
         "rgb(178,24,43)",
         "rgb(214,96,77)",
         "rgb(244,165,130)",
         "rgb(253,219,199)",
         "rgb(247,247,247)",
         "rgb(209,229,240)",
         "rgb(146,197,222)",
         "rgb(67,147,195)",
         "rgb(33,102,172)",
         "rgb(5,48,97)"
        ],
        "template": {
         "data": {
          "bar": [
           {
            "error_x": {
             "color": "#2a3f5f"
            },
            "error_y": {
             "color": "#2a3f5f"
            },
            "marker": {
             "line": {
              "color": "#E5ECF6",
              "width": 0.5
             },
             "pattern": {
              "fillmode": "overlay",
              "size": 10,
              "solidity": 0.2
             }
            },
            "type": "bar"
           }
          ],
          "barpolar": [
           {
            "marker": {
             "line": {
              "color": "#E5ECF6",
              "width": 0.5
             },
             "pattern": {
              "fillmode": "overlay",
              "size": 10,
              "solidity": 0.2
             }
            },
            "type": "barpolar"
           }
          ],
          "carpet": [
           {
            "aaxis": {
             "endlinecolor": "#2a3f5f",
             "gridcolor": "white",
             "linecolor": "white",
             "minorgridcolor": "white",
             "startlinecolor": "#2a3f5f"
            },
            "baxis": {
             "endlinecolor": "#2a3f5f",
             "gridcolor": "white",
             "linecolor": "white",
             "minorgridcolor": "white",
             "startlinecolor": "#2a3f5f"
            },
            "type": "carpet"
           }
          ],
          "choropleth": [
           {
            "colorbar": {
             "outlinewidth": 0,
             "ticks": ""
            },
            "type": "choropleth"
           }
          ],
          "contour": [
           {
            "colorbar": {
             "outlinewidth": 0,
             "ticks": ""
            },
            "colorscale": [
             [
              0,
              "#0d0887"
             ],
             [
              0.1111111111111111,
              "#46039f"
             ],
             [
              0.2222222222222222,
              "#7201a8"
             ],
             [
              0.3333333333333333,
              "#9c179e"
             ],
             [
              0.4444444444444444,
              "#bd3786"
             ],
             [
              0.5555555555555556,
              "#d8576b"
             ],
             [
              0.6666666666666666,
              "#ed7953"
             ],
             [
              0.7777777777777778,
              "#fb9f3a"
             ],
             [
              0.8888888888888888,
              "#fdca26"
             ],
             [
              1,
              "#f0f921"
             ]
            ],
            "type": "contour"
           }
          ],
          "contourcarpet": [
           {
            "colorbar": {
             "outlinewidth": 0,
             "ticks": ""
            },
            "type": "contourcarpet"
           }
          ],
          "heatmap": [
           {
            "colorbar": {
             "outlinewidth": 0,
             "ticks": ""
            },
            "colorscale": [
             [
              0,
              "#0d0887"
             ],
             [
              0.1111111111111111,
              "#46039f"
             ],
             [
              0.2222222222222222,
              "#7201a8"
             ],
             [
              0.3333333333333333,
              "#9c179e"
             ],
             [
              0.4444444444444444,
              "#bd3786"
             ],
             [
              0.5555555555555556,
              "#d8576b"
             ],
             [
              0.6666666666666666,
              "#ed7953"
             ],
             [
              0.7777777777777778,
              "#fb9f3a"
             ],
             [
              0.8888888888888888,
              "#fdca26"
             ],
             [
              1,
              "#f0f921"
             ]
            ],
            "type": "heatmap"
           }
          ],
          "heatmapgl": [
           {
            "colorbar": {
             "outlinewidth": 0,
             "ticks": ""
            },
            "colorscale": [
             [
              0,
              "#0d0887"
             ],
             [
              0.1111111111111111,
              "#46039f"
             ],
             [
              0.2222222222222222,
              "#7201a8"
             ],
             [
              0.3333333333333333,
              "#9c179e"
             ],
             [
              0.4444444444444444,
              "#bd3786"
             ],
             [
              0.5555555555555556,
              "#d8576b"
             ],
             [
              0.6666666666666666,
              "#ed7953"
             ],
             [
              0.7777777777777778,
              "#fb9f3a"
             ],
             [
              0.8888888888888888,
              "#fdca26"
             ],
             [
              1,
              "#f0f921"
             ]
            ],
            "type": "heatmapgl"
           }
          ],
          "histogram": [
           {
            "marker": {
             "pattern": {
              "fillmode": "overlay",
              "size": 10,
              "solidity": 0.2
             }
            },
            "type": "histogram"
           }
          ],
          "histogram2d": [
           {
            "colorbar": {
             "outlinewidth": 0,
             "ticks": ""
            },
            "colorscale": [
             [
              0,
              "#0d0887"
             ],
             [
              0.1111111111111111,
              "#46039f"
             ],
             [
              0.2222222222222222,
              "#7201a8"
             ],
             [
              0.3333333333333333,
              "#9c179e"
             ],
             [
              0.4444444444444444,
              "#bd3786"
             ],
             [
              0.5555555555555556,
              "#d8576b"
             ],
             [
              0.6666666666666666,
              "#ed7953"
             ],
             [
              0.7777777777777778,
              "#fb9f3a"
             ],
             [
              0.8888888888888888,
              "#fdca26"
             ],
             [
              1,
              "#f0f921"
             ]
            ],
            "type": "histogram2d"
           }
          ],
          "histogram2dcontour": [
           {
            "colorbar": {
             "outlinewidth": 0,
             "ticks": ""
            },
            "colorscale": [
             [
              0,
              "#0d0887"
             ],
             [
              0.1111111111111111,
              "#46039f"
             ],
             [
              0.2222222222222222,
              "#7201a8"
             ],
             [
              0.3333333333333333,
              "#9c179e"
             ],
             [
              0.4444444444444444,
              "#bd3786"
             ],
             [
              0.5555555555555556,
              "#d8576b"
             ],
             [
              0.6666666666666666,
              "#ed7953"
             ],
             [
              0.7777777777777778,
              "#fb9f3a"
             ],
             [
              0.8888888888888888,
              "#fdca26"
             ],
             [
              1,
              "#f0f921"
             ]
            ],
            "type": "histogram2dcontour"
           }
          ],
          "mesh3d": [
           {
            "colorbar": {
             "outlinewidth": 0,
             "ticks": ""
            },
            "type": "mesh3d"
           }
          ],
          "parcoords": [
           {
            "line": {
             "colorbar": {
              "outlinewidth": 0,
              "ticks": ""
             }
            },
            "type": "parcoords"
           }
          ],
          "pie": [
           {
            "automargin": true,
            "type": "pie"
           }
          ],
          "scatter": [
           {
            "fillpattern": {
             "fillmode": "overlay",
             "size": 10,
             "solidity": 0.2
            },
            "type": "scatter"
           }
          ],
          "scatter3d": [
           {
            "line": {
             "colorbar": {
              "outlinewidth": 0,
              "ticks": ""
             }
            },
            "marker": {
             "colorbar": {
              "outlinewidth": 0,
              "ticks": ""
             }
            },
            "type": "scatter3d"
           }
          ],
          "scattercarpet": [
           {
            "marker": {
             "colorbar": {
              "outlinewidth": 0,
              "ticks": ""
             }
            },
            "type": "scattercarpet"
           }
          ],
          "scattergeo": [
           {
            "marker": {
             "colorbar": {
              "outlinewidth": 0,
              "ticks": ""
             }
            },
            "type": "scattergeo"
           }
          ],
          "scattergl": [
           {
            "marker": {
             "colorbar": {
              "outlinewidth": 0,
              "ticks": ""
             }
            },
            "type": "scattergl"
           }
          ],
          "scattermapbox": [
           {
            "marker": {
             "colorbar": {
              "outlinewidth": 0,
              "ticks": ""
             }
            },
            "type": "scattermapbox"
           }
          ],
          "scatterpolar": [
           {
            "marker": {
             "colorbar": {
              "outlinewidth": 0,
              "ticks": ""
             }
            },
            "type": "scatterpolar"
           }
          ],
          "scatterpolargl": [
           {
            "marker": {
             "colorbar": {
              "outlinewidth": 0,
              "ticks": ""
             }
            },
            "type": "scatterpolargl"
           }
          ],
          "scatterternary": [
           {
            "marker": {
             "colorbar": {
              "outlinewidth": 0,
              "ticks": ""
             }
            },
            "type": "scatterternary"
           }
          ],
          "surface": [
           {
            "colorbar": {
             "outlinewidth": 0,
             "ticks": ""
            },
            "colorscale": [
             [
              0,
              "#0d0887"
             ],
             [
              0.1111111111111111,
              "#46039f"
             ],
             [
              0.2222222222222222,
              "#7201a8"
             ],
             [
              0.3333333333333333,
              "#9c179e"
             ],
             [
              0.4444444444444444,
              "#bd3786"
             ],
             [
              0.5555555555555556,
              "#d8576b"
             ],
             [
              0.6666666666666666,
              "#ed7953"
             ],
             [
              0.7777777777777778,
              "#fb9f3a"
             ],
             [
              0.8888888888888888,
              "#fdca26"
             ],
             [
              1,
              "#f0f921"
             ]
            ],
            "type": "surface"
           }
          ],
          "table": [
           {
            "cells": {
             "fill": {
              "color": "#EBF0F8"
             },
             "line": {
              "color": "white"
             }
            },
            "header": {
             "fill": {
              "color": "#C8D4E3"
             },
             "line": {
              "color": "white"
             }
            },
            "type": "table"
           }
          ]
         },
         "layout": {
          "annotationdefaults": {
           "arrowcolor": "#2a3f5f",
           "arrowhead": 0,
           "arrowwidth": 1
          },
          "autotypenumbers": "strict",
          "coloraxis": {
           "colorbar": {
            "outlinewidth": 0,
            "ticks": ""
           }
          },
          "colorscale": {
           "diverging": [
            [
             0,
             "#8e0152"
            ],
            [
             0.1,
             "#c51b7d"
            ],
            [
             0.2,
             "#de77ae"
            ],
            [
             0.3,
             "#f1b6da"
            ],
            [
             0.4,
             "#fde0ef"
            ],
            [
             0.5,
             "#f7f7f7"
            ],
            [
             0.6,
             "#e6f5d0"
            ],
            [
             0.7,
             "#b8e186"
            ],
            [
             0.8,
             "#7fbc41"
            ],
            [
             0.9,
             "#4d9221"
            ],
            [
             1,
             "#276419"
            ]
           ],
           "sequential": [
            [
             0,
             "#0d0887"
            ],
            [
             0.1111111111111111,
             "#46039f"
            ],
            [
             0.2222222222222222,
             "#7201a8"
            ],
            [
             0.3333333333333333,
             "#9c179e"
            ],
            [
             0.4444444444444444,
             "#bd3786"
            ],
            [
             0.5555555555555556,
             "#d8576b"
            ],
            [
             0.6666666666666666,
             "#ed7953"
            ],
            [
             0.7777777777777778,
             "#fb9f3a"
            ],
            [
             0.8888888888888888,
             "#fdca26"
            ],
            [
             1,
             "#f0f921"
            ]
           ],
           "sequentialminus": [
            [
             0,
             "#0d0887"
            ],
            [
             0.1111111111111111,
             "#46039f"
            ],
            [
             0.2222222222222222,
             "#7201a8"
            ],
            [
             0.3333333333333333,
             "#9c179e"
            ],
            [
             0.4444444444444444,
             "#bd3786"
            ],
            [
             0.5555555555555556,
             "#d8576b"
            ],
            [
             0.6666666666666666,
             "#ed7953"
            ],
            [
             0.7777777777777778,
             "#fb9f3a"
            ],
            [
             0.8888888888888888,
             "#fdca26"
            ],
            [
             1,
             "#f0f921"
            ]
           ]
          },
          "colorway": [
           "#636efa",
           "#EF553B",
           "#00cc96",
           "#ab63fa",
           "#FFA15A",
           "#19d3f3",
           "#FF6692",
           "#B6E880",
           "#FF97FF",
           "#FECB52"
          ],
          "font": {
           "color": "#2a3f5f"
          },
          "geo": {
           "bgcolor": "white",
           "lakecolor": "white",
           "landcolor": "#E5ECF6",
           "showlakes": true,
           "showland": true,
           "subunitcolor": "white"
          },
          "hoverlabel": {
           "align": "left"
          },
          "hovermode": "closest",
          "mapbox": {
           "style": "light"
          },
          "paper_bgcolor": "white",
          "plot_bgcolor": "#E5ECF6",
          "polar": {
           "angularaxis": {
            "gridcolor": "white",
            "linecolor": "white",
            "ticks": ""
           },
           "bgcolor": "#E5ECF6",
           "radialaxis": {
            "gridcolor": "white",
            "linecolor": "white",
            "ticks": ""
           }
          },
          "scene": {
           "xaxis": {
            "backgroundcolor": "#E5ECF6",
            "gridcolor": "white",
            "gridwidth": 2,
            "linecolor": "white",
            "showbackground": true,
            "ticks": "",
            "zerolinecolor": "white"
           },
           "yaxis": {
            "backgroundcolor": "#E5ECF6",
            "gridcolor": "white",
            "gridwidth": 2,
            "linecolor": "white",
            "showbackground": true,
            "ticks": "",
            "zerolinecolor": "white"
           },
           "zaxis": {
            "backgroundcolor": "#E5ECF6",
            "gridcolor": "white",
            "gridwidth": 2,
            "linecolor": "white",
            "showbackground": true,
            "ticks": "",
            "zerolinecolor": "white"
           }
          },
          "shapedefaults": {
           "line": {
            "color": "#2a3f5f"
           }
          },
          "ternary": {
           "aaxis": {
            "gridcolor": "white",
            "linecolor": "white",
            "ticks": ""
           },
           "baxis": {
            "gridcolor": "white",
            "linecolor": "white",
            "ticks": ""
           },
           "bgcolor": "#E5ECF6",
           "caxis": {
            "gridcolor": "white",
            "linecolor": "white",
            "ticks": ""
           }
          },
          "title": {
           "x": 0.05
          },
          "xaxis": {
           "automargin": true,
           "gridcolor": "white",
           "linecolor": "white",
           "ticks": "",
           "title": {
            "standoff": 15
           },
           "zerolinecolor": "white",
           "zerolinewidth": 2
          },
          "yaxis": {
           "automargin": true,
           "gridcolor": "white",
           "linecolor": "white",
           "ticks": "",
           "title": {
            "standoff": 15
           },
           "zerolinecolor": "white",
           "zerolinewidth": 2
          }
         }
        },
        "title": {
         "text": "Distribucion de metodos de pago"
        }
       }
      }
     },
     "metadata": {},
     "output_type": "display_data"
    }
   ],
   "source": [
    "# Metodos de pago\n",
    "payment_counts = raw_data['Payment Method'].value_counts().reset_index()\n",
    "payment_counts.columns = ['Payment Method', 'Count'] \n",
    "\n",
    "# Grafico \n",
    "fig = px.pie(\n",
    "    payment_counts, \n",
    "    values='Count', \n",
    "    names='Payment Method',\n",
    "    title=\"Distribucion de metodos de pago\",\n",
    "    color_discrete_sequence=px.colors.sequential.RdBu\n",
    ")\n",
    "\n",
    "# Mostrar el gráfico\n",
    "fig.show()"
   ]
  },
  {
   "cell_type": "code",
   "execution_count": 26,
   "metadata": {},
   "outputs": [
    {
     "data": {
      "application/vnd.plotly.v1+json": {
       "config": {
        "plotlyServerURL": "https://plot.ly"
       },
       "data": [
        {
         "domain": {
          "x": [
           0,
           1
          ],
          "y": [
           0,
           1
          ]
         },
         "hovertemplate": "Shipping Type=%{label}<br>Count=%{value}<extra></extra>",
         "labels": [
          "Free Shipping",
          "Standard",
          "Store Pickup",
          "Next Day Air",
          "Express",
          "2-Day Shipping"
         ],
         "legendgroup": "",
         "name": "",
         "showlegend": true,
         "type": "pie",
         "values": [
          675,
          654,
          650,
          648,
          646,
          627
         ]
        }
       ],
       "layout": {
        "legend": {
         "tracegroupgap": 0
        },
        "piecolorway": [
         "rgb(103,0,31)",
         "rgb(178,24,43)",
         "rgb(214,96,77)",
         "rgb(244,165,130)",
         "rgb(253,219,199)",
         "rgb(247,247,247)",
         "rgb(209,229,240)",
         "rgb(146,197,222)",
         "rgb(67,147,195)",
         "rgb(33,102,172)",
         "rgb(5,48,97)"
        ],
        "template": {
         "data": {
          "bar": [
           {
            "error_x": {
             "color": "#2a3f5f"
            },
            "error_y": {
             "color": "#2a3f5f"
            },
            "marker": {
             "line": {
              "color": "#E5ECF6",
              "width": 0.5
             },
             "pattern": {
              "fillmode": "overlay",
              "size": 10,
              "solidity": 0.2
             }
            },
            "type": "bar"
           }
          ],
          "barpolar": [
           {
            "marker": {
             "line": {
              "color": "#E5ECF6",
              "width": 0.5
             },
             "pattern": {
              "fillmode": "overlay",
              "size": 10,
              "solidity": 0.2
             }
            },
            "type": "barpolar"
           }
          ],
          "carpet": [
           {
            "aaxis": {
             "endlinecolor": "#2a3f5f",
             "gridcolor": "white",
             "linecolor": "white",
             "minorgridcolor": "white",
             "startlinecolor": "#2a3f5f"
            },
            "baxis": {
             "endlinecolor": "#2a3f5f",
             "gridcolor": "white",
             "linecolor": "white",
             "minorgridcolor": "white",
             "startlinecolor": "#2a3f5f"
            },
            "type": "carpet"
           }
          ],
          "choropleth": [
           {
            "colorbar": {
             "outlinewidth": 0,
             "ticks": ""
            },
            "type": "choropleth"
           }
          ],
          "contour": [
           {
            "colorbar": {
             "outlinewidth": 0,
             "ticks": ""
            },
            "colorscale": [
             [
              0,
              "#0d0887"
             ],
             [
              0.1111111111111111,
              "#46039f"
             ],
             [
              0.2222222222222222,
              "#7201a8"
             ],
             [
              0.3333333333333333,
              "#9c179e"
             ],
             [
              0.4444444444444444,
              "#bd3786"
             ],
             [
              0.5555555555555556,
              "#d8576b"
             ],
             [
              0.6666666666666666,
              "#ed7953"
             ],
             [
              0.7777777777777778,
              "#fb9f3a"
             ],
             [
              0.8888888888888888,
              "#fdca26"
             ],
             [
              1,
              "#f0f921"
             ]
            ],
            "type": "contour"
           }
          ],
          "contourcarpet": [
           {
            "colorbar": {
             "outlinewidth": 0,
             "ticks": ""
            },
            "type": "contourcarpet"
           }
          ],
          "heatmap": [
           {
            "colorbar": {
             "outlinewidth": 0,
             "ticks": ""
            },
            "colorscale": [
             [
              0,
              "#0d0887"
             ],
             [
              0.1111111111111111,
              "#46039f"
             ],
             [
              0.2222222222222222,
              "#7201a8"
             ],
             [
              0.3333333333333333,
              "#9c179e"
             ],
             [
              0.4444444444444444,
              "#bd3786"
             ],
             [
              0.5555555555555556,
              "#d8576b"
             ],
             [
              0.6666666666666666,
              "#ed7953"
             ],
             [
              0.7777777777777778,
              "#fb9f3a"
             ],
             [
              0.8888888888888888,
              "#fdca26"
             ],
             [
              1,
              "#f0f921"
             ]
            ],
            "type": "heatmap"
           }
          ],
          "heatmapgl": [
           {
            "colorbar": {
             "outlinewidth": 0,
             "ticks": ""
            },
            "colorscale": [
             [
              0,
              "#0d0887"
             ],
             [
              0.1111111111111111,
              "#46039f"
             ],
             [
              0.2222222222222222,
              "#7201a8"
             ],
             [
              0.3333333333333333,
              "#9c179e"
             ],
             [
              0.4444444444444444,
              "#bd3786"
             ],
             [
              0.5555555555555556,
              "#d8576b"
             ],
             [
              0.6666666666666666,
              "#ed7953"
             ],
             [
              0.7777777777777778,
              "#fb9f3a"
             ],
             [
              0.8888888888888888,
              "#fdca26"
             ],
             [
              1,
              "#f0f921"
             ]
            ],
            "type": "heatmapgl"
           }
          ],
          "histogram": [
           {
            "marker": {
             "pattern": {
              "fillmode": "overlay",
              "size": 10,
              "solidity": 0.2
             }
            },
            "type": "histogram"
           }
          ],
          "histogram2d": [
           {
            "colorbar": {
             "outlinewidth": 0,
             "ticks": ""
            },
            "colorscale": [
             [
              0,
              "#0d0887"
             ],
             [
              0.1111111111111111,
              "#46039f"
             ],
             [
              0.2222222222222222,
              "#7201a8"
             ],
             [
              0.3333333333333333,
              "#9c179e"
             ],
             [
              0.4444444444444444,
              "#bd3786"
             ],
             [
              0.5555555555555556,
              "#d8576b"
             ],
             [
              0.6666666666666666,
              "#ed7953"
             ],
             [
              0.7777777777777778,
              "#fb9f3a"
             ],
             [
              0.8888888888888888,
              "#fdca26"
             ],
             [
              1,
              "#f0f921"
             ]
            ],
            "type": "histogram2d"
           }
          ],
          "histogram2dcontour": [
           {
            "colorbar": {
             "outlinewidth": 0,
             "ticks": ""
            },
            "colorscale": [
             [
              0,
              "#0d0887"
             ],
             [
              0.1111111111111111,
              "#46039f"
             ],
             [
              0.2222222222222222,
              "#7201a8"
             ],
             [
              0.3333333333333333,
              "#9c179e"
             ],
             [
              0.4444444444444444,
              "#bd3786"
             ],
             [
              0.5555555555555556,
              "#d8576b"
             ],
             [
              0.6666666666666666,
              "#ed7953"
             ],
             [
              0.7777777777777778,
              "#fb9f3a"
             ],
             [
              0.8888888888888888,
              "#fdca26"
             ],
             [
              1,
              "#f0f921"
             ]
            ],
            "type": "histogram2dcontour"
           }
          ],
          "mesh3d": [
           {
            "colorbar": {
             "outlinewidth": 0,
             "ticks": ""
            },
            "type": "mesh3d"
           }
          ],
          "parcoords": [
           {
            "line": {
             "colorbar": {
              "outlinewidth": 0,
              "ticks": ""
             }
            },
            "type": "parcoords"
           }
          ],
          "pie": [
           {
            "automargin": true,
            "type": "pie"
           }
          ],
          "scatter": [
           {
            "fillpattern": {
             "fillmode": "overlay",
             "size": 10,
             "solidity": 0.2
            },
            "type": "scatter"
           }
          ],
          "scatter3d": [
           {
            "line": {
             "colorbar": {
              "outlinewidth": 0,
              "ticks": ""
             }
            },
            "marker": {
             "colorbar": {
              "outlinewidth": 0,
              "ticks": ""
             }
            },
            "type": "scatter3d"
           }
          ],
          "scattercarpet": [
           {
            "marker": {
             "colorbar": {
              "outlinewidth": 0,
              "ticks": ""
             }
            },
            "type": "scattercarpet"
           }
          ],
          "scattergeo": [
           {
            "marker": {
             "colorbar": {
              "outlinewidth": 0,
              "ticks": ""
             }
            },
            "type": "scattergeo"
           }
          ],
          "scattergl": [
           {
            "marker": {
             "colorbar": {
              "outlinewidth": 0,
              "ticks": ""
             }
            },
            "type": "scattergl"
           }
          ],
          "scattermapbox": [
           {
            "marker": {
             "colorbar": {
              "outlinewidth": 0,
              "ticks": ""
             }
            },
            "type": "scattermapbox"
           }
          ],
          "scatterpolar": [
           {
            "marker": {
             "colorbar": {
              "outlinewidth": 0,
              "ticks": ""
             }
            },
            "type": "scatterpolar"
           }
          ],
          "scatterpolargl": [
           {
            "marker": {
             "colorbar": {
              "outlinewidth": 0,
              "ticks": ""
             }
            },
            "type": "scatterpolargl"
           }
          ],
          "scatterternary": [
           {
            "marker": {
             "colorbar": {
              "outlinewidth": 0,
              "ticks": ""
             }
            },
            "type": "scatterternary"
           }
          ],
          "surface": [
           {
            "colorbar": {
             "outlinewidth": 0,
             "ticks": ""
            },
            "colorscale": [
             [
              0,
              "#0d0887"
             ],
             [
              0.1111111111111111,
              "#46039f"
             ],
             [
              0.2222222222222222,
              "#7201a8"
             ],
             [
              0.3333333333333333,
              "#9c179e"
             ],
             [
              0.4444444444444444,
              "#bd3786"
             ],
             [
              0.5555555555555556,
              "#d8576b"
             ],
             [
              0.6666666666666666,
              "#ed7953"
             ],
             [
              0.7777777777777778,
              "#fb9f3a"
             ],
             [
              0.8888888888888888,
              "#fdca26"
             ],
             [
              1,
              "#f0f921"
             ]
            ],
            "type": "surface"
           }
          ],
          "table": [
           {
            "cells": {
             "fill": {
              "color": "#EBF0F8"
             },
             "line": {
              "color": "white"
             }
            },
            "header": {
             "fill": {
              "color": "#C8D4E3"
             },
             "line": {
              "color": "white"
             }
            },
            "type": "table"
           }
          ]
         },
         "layout": {
          "annotationdefaults": {
           "arrowcolor": "#2a3f5f",
           "arrowhead": 0,
           "arrowwidth": 1
          },
          "autotypenumbers": "strict",
          "coloraxis": {
           "colorbar": {
            "outlinewidth": 0,
            "ticks": ""
           }
          },
          "colorscale": {
           "diverging": [
            [
             0,
             "#8e0152"
            ],
            [
             0.1,
             "#c51b7d"
            ],
            [
             0.2,
             "#de77ae"
            ],
            [
             0.3,
             "#f1b6da"
            ],
            [
             0.4,
             "#fde0ef"
            ],
            [
             0.5,
             "#f7f7f7"
            ],
            [
             0.6,
             "#e6f5d0"
            ],
            [
             0.7,
             "#b8e186"
            ],
            [
             0.8,
             "#7fbc41"
            ],
            [
             0.9,
             "#4d9221"
            ],
            [
             1,
             "#276419"
            ]
           ],
           "sequential": [
            [
             0,
             "#0d0887"
            ],
            [
             0.1111111111111111,
             "#46039f"
            ],
            [
             0.2222222222222222,
             "#7201a8"
            ],
            [
             0.3333333333333333,
             "#9c179e"
            ],
            [
             0.4444444444444444,
             "#bd3786"
            ],
            [
             0.5555555555555556,
             "#d8576b"
            ],
            [
             0.6666666666666666,
             "#ed7953"
            ],
            [
             0.7777777777777778,
             "#fb9f3a"
            ],
            [
             0.8888888888888888,
             "#fdca26"
            ],
            [
             1,
             "#f0f921"
            ]
           ],
           "sequentialminus": [
            [
             0,
             "#0d0887"
            ],
            [
             0.1111111111111111,
             "#46039f"
            ],
            [
             0.2222222222222222,
             "#7201a8"
            ],
            [
             0.3333333333333333,
             "#9c179e"
            ],
            [
             0.4444444444444444,
             "#bd3786"
            ],
            [
             0.5555555555555556,
             "#d8576b"
            ],
            [
             0.6666666666666666,
             "#ed7953"
            ],
            [
             0.7777777777777778,
             "#fb9f3a"
            ],
            [
             0.8888888888888888,
             "#fdca26"
            ],
            [
             1,
             "#f0f921"
            ]
           ]
          },
          "colorway": [
           "#636efa",
           "#EF553B",
           "#00cc96",
           "#ab63fa",
           "#FFA15A",
           "#19d3f3",
           "#FF6692",
           "#B6E880",
           "#FF97FF",
           "#FECB52"
          ],
          "font": {
           "color": "#2a3f5f"
          },
          "geo": {
           "bgcolor": "white",
           "lakecolor": "white",
           "landcolor": "#E5ECF6",
           "showlakes": true,
           "showland": true,
           "subunitcolor": "white"
          },
          "hoverlabel": {
           "align": "left"
          },
          "hovermode": "closest",
          "mapbox": {
           "style": "light"
          },
          "paper_bgcolor": "white",
          "plot_bgcolor": "#E5ECF6",
          "polar": {
           "angularaxis": {
            "gridcolor": "white",
            "linecolor": "white",
            "ticks": ""
           },
           "bgcolor": "#E5ECF6",
           "radialaxis": {
            "gridcolor": "white",
            "linecolor": "white",
            "ticks": ""
           }
          },
          "scene": {
           "xaxis": {
            "backgroundcolor": "#E5ECF6",
            "gridcolor": "white",
            "gridwidth": 2,
            "linecolor": "white",
            "showbackground": true,
            "ticks": "",
            "zerolinecolor": "white"
           },
           "yaxis": {
            "backgroundcolor": "#E5ECF6",
            "gridcolor": "white",
            "gridwidth": 2,
            "linecolor": "white",
            "showbackground": true,
            "ticks": "",
            "zerolinecolor": "white"
           },
           "zaxis": {
            "backgroundcolor": "#E5ECF6",
            "gridcolor": "white",
            "gridwidth": 2,
            "linecolor": "white",
            "showbackground": true,
            "ticks": "",
            "zerolinecolor": "white"
           }
          },
          "shapedefaults": {
           "line": {
            "color": "#2a3f5f"
           }
          },
          "ternary": {
           "aaxis": {
            "gridcolor": "white",
            "linecolor": "white",
            "ticks": ""
           },
           "baxis": {
            "gridcolor": "white",
            "linecolor": "white",
            "ticks": ""
           },
           "bgcolor": "#E5ECF6",
           "caxis": {
            "gridcolor": "white",
            "linecolor": "white",
            "ticks": ""
           }
          },
          "title": {
           "x": 0.05
          },
          "xaxis": {
           "automargin": true,
           "gridcolor": "white",
           "linecolor": "white",
           "ticks": "",
           "title": {
            "standoff": 15
           },
           "zerolinecolor": "white",
           "zerolinewidth": 2
          },
          "yaxis": {
           "automargin": true,
           "gridcolor": "white",
           "linecolor": "white",
           "ticks": "",
           "title": {
            "standoff": 15
           },
           "zerolinecolor": "white",
           "zerolinewidth": 2
          }
         }
        },
        "title": {
         "text": "Distribucion de tipos de envio"
        }
       }
      }
     },
     "metadata": {},
     "output_type": "display_data"
    }
   ],
   "source": [
    "# Tipos de envio\n",
    "shipping_counts = raw_data['Shipping Type'].value_counts().reset_index()\n",
    "shipping_counts.columns = ['Shipping Type', 'Count'] \n",
    "\n",
    "# Grafico \n",
    "fig = px.pie(\n",
    "    shipping_counts, \n",
    "    values='Count', \n",
    "    names='Shipping Type',\n",
    "    title=\"Distribucion de tipos de envio\",\n",
    "    color_discrete_sequence=px.colors.sequential.RdBu\n",
    ")\n",
    "\n",
    "# Mostrar el gráfico\n",
    "fig.show()"
   ]
  },
  {
   "cell_type": "code",
   "execution_count": 27,
   "metadata": {},
   "outputs": [
    {
     "data": {
      "text/plain": [
       "Text(0.5, 1.0, 'Esta suscripto?')"
      ]
     },
     "execution_count": 27,
     "metadata": {},
     "output_type": "execute_result"
    },
    {
     "data": {
      "image/png": "[encoded data removed]",
      "text/plain": [
       "<Figure size 1000x500 with 2 Axes>"
      ]
     },
     "metadata": {},
     "output_type": "display_data"
    }
   ],
   "source": [
    "#Descuentos\n",
    "discount_count = raw_data[\"Discount Applied\"].value_counts().reset_index()\n",
    "discount_count.columns = [\"Discount Applied\", \"Count\"]\n",
    "\n",
    "#Suscripcion\n",
    "Suscripcion_count = raw_data[\"Subscription Status\"].value_counts().reset_index()\n",
    "Suscripcion_count.columns = [\"Suscripcion\", \"Count\"]\n",
    "\n",
    "fig, ax = plt.subplots(1,2, figsize=(10,5))\n",
    "sns.barplot(discount_count, x=\"Discount Applied\", y=\"Count\", ax=ax[0], hue=\"Discount Applied\")\n",
    "sns.barplot(Suscripcion_count, x=\"Suscripcion\", y=\"Count\", ax=ax[1], hue=\"Suscripcion\", palette=\"flare\")\n",
    "ax[0].set_xlabel(\"Descuento\")\n",
    "ax[1].set_xlabel(\"Suscripcion\")\n",
    "ax[0].set_ylabel(\"Cantidad\")\n",
    "ax[1].set_ylabel(\"Cantidad\")\n",
    "ax[0].set_title(\"Descuento aplicado?\")\n",
    "ax[1].set_title(\"Esta suscripto?\")"
   ]
  },
  {
   "cell_type": "code",
   "execution_count": 28,
   "metadata": {},
   "outputs": [
    {
     "data": {
      "application/vnd.plotly.v1+json": {
       "config": {
        "plotlyServerURL": "https://plot.ly"
       },
       "data": [
        {
         "branchvalues": "total",
         "customdata": [
          [
           74200
          ],
          [
           104264
          ],
          [
           36093
          ],
          [
           18524
          ]
         ],
         "domain": {
          "x": [
           0,
           1
          ],
          "y": [
           0,
           1
          ]
         },
         "hovertemplate": "labels=%{label}<br>Purchase Amount (USD)_sum=%{value}<br>parent=%{parent}<br>id=%{id}<br>Purchase Amount (USD)=%{color}<extra></extra>",
         "ids": [
          "Accessories",
          "Clothing",
          "Footwear",
          "Outerwear"
         ],
         "labels": [
          "Accessories",
          "Clothing",
          "Footwear",
          "Outerwear"
         ],
         "marker": {
          "coloraxis": "coloraxis",
          "colors": [
           74200,
           104264,
           36093,
           18524
          ]
         },
         "name": "",
         "parents": [
          "",
          "",
          "",
          ""
         ],
         "type": "treemap",
         "values": [
          74200,
          104264,
          36093,
          18524
         ]
        }
       ],
       "layout": {
        "coloraxis": {
         "colorbar": {
          "title": {
           "text": "Purchase Amount (USD)"
          }
         },
         "colorscale": [
          [
           0,
           "rgb(243, 231, 155)"
          ],
          [
           0.16666666666666666,
           "rgb(250, 196, 132)"
          ],
          [
           0.3333333333333333,
           "rgb(248, 160, 126)"
          ],
          [
           0.5,
           "rgb(235, 127, 134)"
          ],
          [
           0.6666666666666666,
           "rgb(206, 102, 147)"
          ],
          [
           0.8333333333333334,
           "rgb(160, 89, 160)"
          ],
          [
           1,
           "rgb(92, 83, 165)"
          ]
         ]
        },
        "height": 700,
        "legend": {
         "tracegroupgap": 0
        },
        "template": {
         "data": {
          "bar": [
           {
            "error_x": {
             "color": "#2a3f5f"
            },
            "error_y": {
             "color": "#2a3f5f"
            },
            "marker": {
             "line": {
              "color": "#E5ECF6",
              "width": 0.5
             },
             "pattern": {
              "fillmode": "overlay",
              "size": 10,
              "solidity": 0.2
             }
            },
            "type": "bar"
           }
          ],
          "barpolar": [
           {
            "marker": {
             "line": {
              "color": "#E5ECF6",
              "width": 0.5
             },
             "pattern": {
              "fillmode": "overlay",
              "size": 10,
              "solidity": 0.2
             }
            },
            "type": "barpolar"
           }
          ],
          "carpet": [
           {
            "aaxis": {
             "endlinecolor": "#2a3f5f",
             "gridcolor": "white",
             "linecolor": "white",
             "minorgridcolor": "white",
             "startlinecolor": "#2a3f5f"
            },
            "baxis": {
             "endlinecolor": "#2a3f5f",
             "gridcolor": "white",
             "linecolor": "white",
             "minorgridcolor": "white",
             "startlinecolor": "#2a3f5f"
            },
            "type": "carpet"
           }
          ],
          "choropleth": [
           {
            "colorbar": {
             "outlinewidth": 0,
             "ticks": ""
            },
            "type": "choropleth"
           }
          ],
          "contour": [
           {
            "colorbar": {
             "outlinewidth": 0,
             "ticks": ""
            },
            "colorscale": [
             [
              0,
              "#0d0887"
             ],
             [
              0.1111111111111111,
              "#46039f"
             ],
             [
              0.2222222222222222,
              "#7201a8"
             ],
             [
              0.3333333333333333,
              "#9c179e"
             ],
             [
              0.4444444444444444,
              "#bd3786"
             ],
             [
              0.5555555555555556,
              "#d8576b"
             ],
             [
              0.6666666666666666,
              "#ed7953"
             ],
             [
              0.7777777777777778,
              "#fb9f3a"
             ],
             [
              0.8888888888888888,
              "#fdca26"
             ],
             [
              1,
              "#f0f921"
             ]
            ],
            "type": "contour"
           }
          ],
          "contourcarpet": [
           {
            "colorbar": {
             "outlinewidth": 0,
             "ticks": ""
            },
            "type": "contourcarpet"
           }
          ],
          "heatmap": [
           {
            "colorbar": {
             "outlinewidth": 0,
             "ticks": ""
            },
            "colorscale": [
             [
              0,
              "#0d0887"
             ],
             [
              0.1111111111111111,
              "#46039f"
             ],
             [
              0.2222222222222222,
              "#7201a8"
             ],
             [
              0.3333333333333333,
              "#9c179e"
             ],
             [
              0.4444444444444444,
              "#bd3786"
             ],
             [
              0.5555555555555556,
              "#d8576b"
             ],
             [
              0.6666666666666666,
              "#ed7953"
             ],
             [
              0.7777777777777778,
              "#fb9f3a"
             ],
             [
              0.8888888888888888,
              "#fdca26"
             ],
             [
              1,
              "#f0f921"
             ]
            ],
            "type": "heatmap"
           }
          ],
          "heatmapgl": [
           {
            "colorbar": {
             "outlinewidth": 0,
             "ticks": ""
            },
            "colorscale": [
             [
              0,
              "#0d0887"
             ],
             [
              0.1111111111111111,
              "#46039f"
             ],
             [
              0.2222222222222222,
              "#7201a8"
             ],
             [
              0.3333333333333333,
              "#9c179e"
             ],
             [
              0.4444444444444444,
              "#bd3786"
             ],
             [
              0.5555555555555556,
              "#d8576b"
             ],
             [
              0.6666666666666666,
              "#ed7953"
             ],
             [
              0.7777777777777778,
              "#fb9f3a"
             ],
             [
              0.8888888888888888,
              "#fdca26"
             ],
             [
              1,
              "#f0f921"
             ]
            ],
            "type": "heatmapgl"
           }
          ],
          "histogram": [
           {
            "marker": {
             "pattern": {
              "fillmode": "overlay",
              "size": 10,
              "solidity": 0.2
             }
            },
            "type": "histogram"
           }
          ],
          "histogram2d": [
           {
            "colorbar": {
             "outlinewidth": 0,
             "ticks": ""
            },
            "colorscale": [
             [
              0,
              "#0d0887"
             ],
             [
              0.1111111111111111,
              "#46039f"
             ],
             [
              0.2222222222222222,
              "#7201a8"
             ],
             [
              0.3333333333333333,
              "#9c179e"
             ],
             [
              0.4444444444444444,
              "#bd3786"
             ],
             [
              0.5555555555555556,
              "#d8576b"
             ],
             [
              0.6666666666666666,
              "#ed7953"
             ],
             [
              0.7777777777777778,
              "#fb9f3a"
             ],
             [
              0.8888888888888888,
              "#fdca26"
             ],
             [
              1,
              "#f0f921"
             ]
            ],
            "type": "histogram2d"
           }
          ],
          "histogram2dcontour": [
           {
            "colorbar": {
             "outlinewidth": 0,
             "ticks": ""
            },
            "colorscale": [
             [
              0,
              "#0d0887"
             ],
             [
              0.1111111111111111,
              "#46039f"
             ],
             [
              0.2222222222222222,
              "#7201a8"
             ],
             [
              0.3333333333333333,
              "#9c179e"
             ],
             [
              0.4444444444444444,
              "#bd3786"
             ],
             [
              0.5555555555555556,
              "#d8576b"
             ],
             [
              0.6666666666666666,
              "#ed7953"
             ],
             [
              0.7777777777777778,
              "#fb9f3a"
             ],
             [
              0.8888888888888888,
              "#fdca26"
             ],
             [
              1,
              "#f0f921"
             ]
            ],
            "type": "histogram2dcontour"
           }
          ],
          "mesh3d": [
           {
            "colorbar": {
             "outlinewidth": 0,
             "ticks": ""
            },
            "type": "mesh3d"
           }
          ],
          "parcoords": [
           {
            "line": {
             "colorbar": {
              "outlinewidth": 0,
              "ticks": ""
             }
            },
            "type": "parcoords"
           }
          ],
          "pie": [
           {
            "automargin": true,
            "type": "pie"
           }
          ],
          "scatter": [
           {
            "fillpattern": {
             "fillmode": "overlay",
             "size": 10,
             "solidity": 0.2
            },
            "type": "scatter"
           }
          ],
          "scatter3d": [
           {
            "line": {
             "colorbar": {
              "outlinewidth": 0,
              "ticks": ""
             }
            },
            "marker": {
             "colorbar": {
              "outlinewidth": 0,
              "ticks": ""
             }
            },
            "type": "scatter3d"
           }
          ],
          "scattercarpet": [
           {
            "marker": {
             "colorbar": {
              "outlinewidth": 0,
              "ticks": ""
             }
            },
            "type": "scattercarpet"
           }
          ],
          "scattergeo": [
           {
            "marker": {
             "colorbar": {
              "outlinewidth": 0,
              "ticks": ""
             }
            },
            "type": "scattergeo"
           }
          ],
          "scattergl": [
           {
            "marker": {
             "colorbar": {
              "outlinewidth": 0,
              "ticks": ""
             }
            },
            "type": "scattergl"
           }
          ],
          "scattermapbox": [
           {
            "marker": {
             "colorbar": {
              "outlinewidth": 0,
              "ticks": ""
             }
            },
            "type": "scattermapbox"
           }
          ],
          "scatterpolar": [
           {
            "marker": {
             "colorbar": {
              "outlinewidth": 0,
              "ticks": ""
             }
            },
            "type": "scatterpolar"
           }
          ],
          "scatterpolargl": [
           {
            "marker": {
             "colorbar": {
              "outlinewidth": 0,
              "ticks": ""
             }
            },
            "type": "scatterpolargl"
           }
          ],
          "scatterternary": [
           {
            "marker": {
             "colorbar": {
              "outlinewidth": 0,
              "ticks": ""
             }
            },
            "type": "scatterternary"
           }
          ],
          "surface": [
           {
            "colorbar": {
             "outlinewidth": 0,
             "ticks": ""
            },
            "colorscale": [
             [
              0,
              "#0d0887"
             ],
             [
              0.1111111111111111,
              "#46039f"
             ],
             [
              0.2222222222222222,
              "#7201a8"
             ],
             [
              0.3333333333333333,
              "#9c179e"
             ],
             [
              0.4444444444444444,
              "#bd3786"
             ],
             [
              0.5555555555555556,
              "#d8576b"
             ],
             [
              0.6666666666666666,
              "#ed7953"
             ],
             [
              0.7777777777777778,
              "#fb9f3a"
             ],
             [
              0.8888888888888888,
              "#fdca26"
             ],
             [
              1,
              "#f0f921"
             ]
            ],
            "type": "surface"
           }
          ],
          "table": [
           {
            "cells": {
             "fill": {
              "color": "#EBF0F8"
             },
             "line": {
              "color": "white"
             }
            },
            "header": {
             "fill": {
              "color": "#C8D4E3"
             },
             "line": {
              "color": "white"
             }
            },
            "type": "table"
           }
          ]
         },
         "layout": {
          "annotationdefaults": {
           "arrowcolor": "#2a3f5f",
           "arrowhead": 0,
           "arrowwidth": 1
          },
          "autotypenumbers": "strict",
          "coloraxis": {
           "colorbar": {
            "outlinewidth": 0,
            "ticks": ""
           }
          },
          "colorscale": {
           "diverging": [
            [
             0,
             "#8e0152"
            ],
            [
             0.1,
             "#c51b7d"
            ],
            [
             0.2,
             "#de77ae"
            ],
            [
             0.3,
             "#f1b6da"
            ],
            [
             0.4,
             "#fde0ef"
            ],
            [
             0.5,
             "#f7f7f7"
            ],
            [
             0.6,
             "#e6f5d0"
            ],
            [
             0.7,
             "#b8e186"
            ],
            [
             0.8,
             "#7fbc41"
            ],
            [
             0.9,
             "#4d9221"
            ],
            [
             1,
             "#276419"
            ]
           ],
           "sequential": [
            [
             0,
             "#0d0887"
            ],
            [
             0.1111111111111111,
             "#46039f"
            ],
            [
             0.2222222222222222,
             "#7201a8"
            ],
            [
             0.3333333333333333,
             "#9c179e"
            ],
            [
             0.4444444444444444,
             "#bd3786"
            ],
            [
             0.5555555555555556,
             "#d8576b"
            ],
            [
             0.6666666666666666,
             "#ed7953"
            ],
            [
             0.7777777777777778,
             "#fb9f3a"
            ],
            [
             0.8888888888888888,
             "#fdca26"
            ],
            [
             1,
             "#f0f921"
            ]
           ],
           "sequentialminus": [
            [
             0,
             "#0d0887"
            ],
            [
             0.1111111111111111,
             "#46039f"
            ],
            [
             0.2222222222222222,
             "#7201a8"
            ],
            [
             0.3333333333333333,
             "#9c179e"
            ],
            [
             0.4444444444444444,
             "#bd3786"
            ],
            [
             0.5555555555555556,
             "#d8576b"
            ],
            [
             0.6666666666666666,
             "#ed7953"
            ],
            [
             0.7777777777777778,
             "#fb9f3a"
            ],
            [
             0.8888888888888888,
             "#fdca26"
            ],
            [
             1,
             "#f0f921"
            ]
           ]
          },
          "colorway": [
           "#636efa",
           "#EF553B",
           "#00cc96",
           "#ab63fa",
           "#FFA15A",
           "#19d3f3",
           "#FF6692",
           "#B6E880",
           "#FF97FF",
           "#FECB52"
          ],
          "font": {
           "color": "#2a3f5f"
          },
          "geo": {
           "bgcolor": "white",
           "lakecolor": "white",
           "landcolor": "#E5ECF6",
           "showlakes": true,
           "showland": true,
           "subunitcolor": "white"
          },
          "hoverlabel": {
           "align": "left"
          },
          "hovermode": "closest",
          "mapbox": {
           "style": "light"
          },
          "paper_bgcolor": "white",
          "plot_bgcolor": "#E5ECF6",
          "polar": {
           "angularaxis": {
            "gridcolor": "white",
            "linecolor": "white",
            "ticks": ""
           },
           "bgcolor": "#E5ECF6",
           "radialaxis": {
            "gridcolor": "white",
            "linecolor": "white",
            "ticks": ""
           }
          },
          "scene": {
           "xaxis": {
            "backgroundcolor": "#E5ECF6",
            "gridcolor": "white",
            "gridwidth": 2,
            "linecolor": "white",
            "showbackground": true,
            "ticks": "",
            "zerolinecolor": "white"
           },
           "yaxis": {
            "backgroundcolor": "#E5ECF6",
            "gridcolor": "white",
            "gridwidth": 2,
            "linecolor": "white",
            "showbackground": true,
            "ticks": "",
            "zerolinecolor": "white"
           },
           "zaxis": {
            "backgroundcolor": "#E5ECF6",
            "gridcolor": "white",
            "gridwidth": 2,
            "linecolor": "white",
            "showbackground": true,
            "ticks": "",
            "zerolinecolor": "white"
           }
          },
          "shapedefaults": {
           "line": {
            "color": "#2a3f5f"
           }
          },
          "ternary": {
           "aaxis": {
            "gridcolor": "white",
            "linecolor": "white",
            "ticks": ""
           },
           "baxis": {
            "gridcolor": "white",
            "linecolor": "white",
            "ticks": ""
           },
           "bgcolor": "#E5ECF6",
           "caxis": {
            "gridcolor": "white",
            "linecolor": "white",
            "ticks": ""
           }
          },
          "title": {
           "x": 0.05
          },
          "xaxis": {
           "automargin": true,
           "gridcolor": "white",
           "linecolor": "white",
           "ticks": "",
           "title": {
            "standoff": 15
           },
           "zerolinecolor": "white",
           "zerolinewidth": 2
          },
          "yaxis": {
           "automargin": true,
           "gridcolor": "white",
           "linecolor": "white",
           "ticks": "",
           "title": {
            "standoff": 15
           },
           "zerolinecolor": "white",
           "zerolinewidth": 2
          }
         }
        },
        "title": {
         "font": {
          "size": 20
         },
         "text": "Revenue por categoria",
         "x": 0.5
        },
        "width": 1000
       }
      }
     },
     "metadata": {},
     "output_type": "display_data"
    }
   ],
   "source": [
    "#Categoria por revenue\n",
    "\n",
    "revenue_category = raw_data.groupby(\"Category\")[\"Purchase Amount (USD)\"].sum().reset_index()\n",
    "fig = px.treemap(\n",
    "    revenue_category,\n",
    "    path=[\"Category\"],\n",
    "    values=\"Purchase Amount (USD)\",\n",
    "    color=\"Purchase Amount (USD)\",\n",
    "    title=\"Revenue por categoria\",\n",
    "    color_continuous_scale=px.colors.sequential.Sunset\n",
    ")\n",
    "fig.update_layout(\n",
    "    width=1000,\n",
    "    height=700,\n",
    "    title_font_size=20,\n",
    "    title_x=0.5\n",
    ")\n",
    "fig.show()"
   ]
  },
  {
   "cell_type": "code",
   "execution_count": 29,
   "metadata": {},
   "outputs": [
    {
     "data": {
      "application/vnd.plotly.v1+json": {
       "config": {
        "plotlyServerURL": "https://plot.ly"
       },
       "data": [
        {
         "alignmentgroup": "True",
         "hovertemplate": "Shipping Type=%{x}<br>Purchase Amount (USD)=%{y}<extra></extra>",
         "legendgroup": "Free Shipping",
         "marker": {
          "color": "#636efa",
          "line": {
           "color": "black",
           "width": 1.5
          },
          "pattern": {
           "shape": ""
          }
         },
         "name": "Free Shipping",
         "offsetgroup": "Free Shipping",
         "orientation": "v",
         "showlegend": true,
         "textposition": "auto",
         "type": "bar",
         "x": [
          "Free Shipping"
         ],
         "xaxis": "x",
         "y": [
          40777
         ],
         "yaxis": "y"
        },
        {
         "alignmentgroup": "True",
         "hovertemplate": "Shipping Type=%{x}<br>Purchase Amount (USD)=%{y}<extra></extra>",
         "legendgroup": "Express",
         "marker": {
          "color": "#EF553B",
          "line": {
           "color": "black",
           "width": 1.5
          },
          "pattern": {
           "shape": ""
          }
         },
         "name": "Express",
         "offsetgroup": "Express",
         "orientation": "v",
         "showlegend": true,
         "textposition": "auto",
         "type": "bar",
         "x": [
          "Express"
         ],
         "xaxis": "x",
         "y": [
          39067
         ],
         "yaxis": "y"
        },
        {
         "alignmentgroup": "True",
         "hovertemplate": "Shipping Type=%{x}<br>Purchase Amount (USD)=%{y}<extra></extra>",
         "legendgroup": "Store Pickup",
         "marker": {
          "color": "#00cc96",
          "line": {
           "color": "black",
           "width": 1.5
          },
          "pattern": {
           "shape": ""
          }
         },
         "name": "Store Pickup",
         "offsetgroup": "Store Pickup",
         "orientation": "v",
         "showlegend": true,
         "textposition": "auto",
         "type": "bar",
         "x": [
          "Store Pickup"
         ],
         "xaxis": "x",
         "y": [
          38931
         ],
         "yaxis": "y"
        },
        {
         "alignmentgroup": "True",
         "hovertemplate": "Shipping Type=%{x}<br>Purchase Amount (USD)=%{y}<extra></extra>",
         "legendgroup": "Standard",
         "marker": {
          "color": "#ab63fa",
          "line": {
           "color": "black",
           "width": 1.5
          },
          "pattern": {
           "shape": ""
          }
         },
         "name": "Standard",
         "offsetgroup": "Standard",
         "orientation": "v",
         "showlegend": true,
         "textposition": "auto",
         "type": "bar",
         "x": [
          "Standard"
         ],
         "xaxis": "x",
         "y": [
          38233
         ],
         "yaxis": "y"
        },
        {
         "alignmentgroup": "True",
         "hovertemplate": "Shipping Type=%{x}<br>Purchase Amount (USD)=%{y}<extra></extra>",
         "legendgroup": "2-Day Shipping",
         "marker": {
          "color": "#FFA15A",
          "line": {
           "color": "black",
           "width": 1.5
          },
          "pattern": {
           "shape": ""
          }
         },
         "name": "2-Day Shipping",
         "offsetgroup": "2-Day Shipping",
         "orientation": "v",
         "showlegend": true,
         "textposition": "auto",
         "type": "bar",
         "x": [
          "2-Day Shipping"
         ],
         "xaxis": "x",
         "y": [
          38080
         ],
         "yaxis": "y"
        },
        {
         "alignmentgroup": "True",
         "hovertemplate": "Shipping Type=%{x}<br>Purchase Amount (USD)=%{y}<extra></extra>",
         "legendgroup": "Next Day Air",
         "marker": {
          "color": "#19d3f3",
          "line": {
           "color": "black",
           "width": 1.5
          },
          "pattern": {
           "shape": ""
          }
         },
         "name": "Next Day Air",
         "offsetgroup": "Next Day Air",
         "orientation": "v",
         "showlegend": true,
         "textposition": "auto",
         "type": "bar",
         "x": [
          "Next Day Air"
         ],
         "xaxis": "x",
         "y": [
          37993
         ],
         "yaxis": "y"
        }
       ],
       "layout": {
        "barmode": "relative",
        "height": 500,
        "legend": {
         "title": {
          "text": "Shipping Type"
         },
         "tracegroupgap": 0
        },
        "template": {
         "data": {
          "bar": [
           {
            "error_x": {
             "color": "#2a3f5f"
            },
            "error_y": {
             "color": "#2a3f5f"
            },
            "marker": {
             "line": {
              "color": "#E5ECF6",
              "width": 0.5
             },
             "pattern": {
              "fillmode": "overlay",
              "size": 10,
              "solidity": 0.2
             }
            },
            "type": "bar"
           }
          ],
          "barpolar": [
           {
            "marker": {
             "line": {
              "color": "#E5ECF6",
              "width": 0.5
             },
             "pattern": {
              "fillmode": "overlay",
              "size": 10,
              "solidity": 0.2
             }
            },
            "type": "barpolar"
           }
          ],
          "carpet": [
           {
            "aaxis": {
             "endlinecolor": "#2a3f5f",
             "gridcolor": "white",
             "linecolor": "white",
             "minorgridcolor": "white",
             "startlinecolor": "#2a3f5f"
            },
            "baxis": {
             "endlinecolor": "#2a3f5f",
             "gridcolor": "white",
             "linecolor": "white",
             "minorgridcolor": "white",
             "startlinecolor": "#2a3f5f"
            },
            "type": "carpet"
           }
          ],
          "choropleth": [
           {
            "colorbar": {
             "outlinewidth": 0,
             "ticks": ""
            },
            "type": "choropleth"
           }
          ],
          "contour": [
           {
            "colorbar": {
             "outlinewidth": 0,
             "ticks": ""
            },
            "colorscale": [
             [
              0,
              "#0d0887"
             ],
             [
              0.1111111111111111,
              "#46039f"
             ],
             [
              0.2222222222222222,
              "#7201a8"
             ],
             [
              0.3333333333333333,
              "#9c179e"
             ],
             [
              0.4444444444444444,
              "#bd3786"
             ],
             [
              0.5555555555555556,
              "#d8576b"
             ],
             [
              0.6666666666666666,
              "#ed7953"
             ],
             [
              0.7777777777777778,
              "#fb9f3a"
             ],
             [
              0.8888888888888888,
              "#fdca26"
             ],
             [
              1,
              "#f0f921"
             ]
            ],
            "type": "contour"
           }
          ],
          "contourcarpet": [
           {
            "colorbar": {
             "outlinewidth": 0,
             "ticks": ""
            },
            "type": "contourcarpet"
           }
          ],
          "heatmap": [
           {
            "colorbar": {
             "outlinewidth": 0,
             "ticks": ""
            },
            "colorscale": [
             [
              0,
              "#0d0887"
             ],
             [
              0.1111111111111111,
              "#46039f"
             ],
             [
              0.2222222222222222,
              "#7201a8"
             ],
             [
              0.3333333333333333,
              "#9c179e"
             ],
             [
              0.4444444444444444,
              "#bd3786"
             ],
             [
              0.5555555555555556,
              "#d8576b"
             ],
             [
              0.6666666666666666,
              "#ed7953"
             ],
             [
              0.7777777777777778,
              "#fb9f3a"
             ],
             [
              0.8888888888888888,
              "#fdca26"
             ],
             [
              1,
              "#f0f921"
             ]
            ],
            "type": "heatmap"
           }
          ],
          "heatmapgl": [
           {
            "colorbar": {
             "outlinewidth": 0,
             "ticks": ""
            },
            "colorscale": [
             [
              0,
              "#0d0887"
             ],
             [
              0.1111111111111111,
              "#46039f"
             ],
             [
              0.2222222222222222,
              "#7201a8"
             ],
             [
              0.3333333333333333,
              "#9c179e"
             ],
             [
              0.4444444444444444,
              "#bd3786"
             ],
             [
              0.5555555555555556,
              "#d8576b"
             ],
             [
              0.6666666666666666,
              "#ed7953"
             ],
             [
              0.7777777777777778,
              "#fb9f3a"
             ],
             [
              0.8888888888888888,
              "#fdca26"
             ],
             [
              1,
              "#f0f921"
             ]
            ],
            "type": "heatmapgl"
           }
          ],
          "histogram": [
           {
            "marker": {
             "pattern": {
              "fillmode": "overlay",
              "size": 10,
              "solidity": 0.2
             }
            },
            "type": "histogram"
           }
          ],
          "histogram2d": [
           {
            "colorbar": {
             "outlinewidth": 0,
             "ticks": ""
            },
            "colorscale": [
             [
              0,
              "#0d0887"
             ],
             [
              0.1111111111111111,
              "#46039f"
             ],
             [
              0.2222222222222222,
              "#7201a8"
             ],
             [
              0.3333333333333333,
              "#9c179e"
             ],
             [
              0.4444444444444444,
              "#bd3786"
             ],
             [
              0.5555555555555556,
              "#d8576b"
             ],
             [
              0.6666666666666666,
              "#ed7953"
             ],
             [
              0.7777777777777778,
              "#fb9f3a"
             ],
             [
              0.8888888888888888,
              "#fdca26"
             ],
             [
              1,
              "#f0f921"
             ]
            ],
            "type": "histogram2d"
           }
          ],
          "histogram2dcontour": [
           {
            "colorbar": {
             "outlinewidth": 0,
             "ticks": ""
            },
            "colorscale": [
             [
              0,
              "#0d0887"
             ],
             [
              0.1111111111111111,
              "#46039f"
             ],
             [
              0.2222222222222222,
              "#7201a8"
             ],
             [
              0.3333333333333333,
              "#9c179e"
             ],
             [
              0.4444444444444444,
              "#bd3786"
             ],
             [
              0.5555555555555556,
              "#d8576b"
             ],
             [
              0.6666666666666666,
              "#ed7953"
             ],
             [
              0.7777777777777778,
              "#fb9f3a"
             ],
             [
              0.8888888888888888,
              "#fdca26"
             ],
             [
              1,
              "#f0f921"
             ]
            ],
            "type": "histogram2dcontour"
           }
          ],
          "mesh3d": [
           {
            "colorbar": {
             "outlinewidth": 0,
             "ticks": ""
            },
            "type": "mesh3d"
           }
          ],
          "parcoords": [
           {
            "line": {
             "colorbar": {
              "outlinewidth": 0,
              "ticks": ""
             }
            },
            "type": "parcoords"
           }
          ],
          "pie": [
           {
            "automargin": true,
            "type": "pie"
           }
          ],
          "scatter": [
           {
            "fillpattern": {
             "fillmode": "overlay",
             "size": 10,
             "solidity": 0.2
            },
            "type": "scatter"
           }
          ],
          "scatter3d": [
           {
            "line": {
             "colorbar": {
              "outlinewidth": 0,
              "ticks": ""
             }
            },
            "marker": {
             "colorbar": {
              "outlinewidth": 0,
              "ticks": ""
             }
            },
            "type": "scatter3d"
           }
          ],
          "scattercarpet": [
           {
            "marker": {
             "colorbar": {
              "outlinewidth": 0,
              "ticks": ""
             }
            },
            "type": "scattercarpet"
           }
          ],
          "scattergeo": [
           {
            "marker": {
             "colorbar": {
              "outlinewidth": 0,
              "ticks": ""
             }
            },
            "type": "scattergeo"
           }
          ],
          "scattergl": [
           {
            "marker": {
             "colorbar": {
              "outlinewidth": 0,
              "ticks": ""
             }
            },
            "type": "scattergl"
           }
          ],
          "scattermapbox": [
           {
            "marker": {
             "colorbar": {
              "outlinewidth": 0,
              "ticks": ""
             }
            },
            "type": "scattermapbox"
           }
          ],
          "scatterpolar": [
           {
            "marker": {
             "colorbar": {
              "outlinewidth": 0,
              "ticks": ""
             }
            },
            "type": "scatterpolar"
           }
          ],
          "scatterpolargl": [
           {
            "marker": {
             "colorbar": {
              "outlinewidth": 0,
              "ticks": ""
             }
            },
            "type": "scatterpolargl"
           }
          ],
          "scatterternary": [
           {
            "marker": {
             "colorbar": {
              "outlinewidth": 0,
              "ticks": ""
             }
            },
            "type": "scatterternary"
           }
          ],
          "surface": [
           {
            "colorbar": {
             "outlinewidth": 0,
             "ticks": ""
            },
            "colorscale": [
             [
              0,
              "#0d0887"
             ],
             [
              0.1111111111111111,
              "#46039f"
             ],
             [
              0.2222222222222222,
              "#7201a8"
             ],
             [
              0.3333333333333333,
              "#9c179e"
             ],
             [
              0.4444444444444444,
              "#bd3786"
             ],
             [
              0.5555555555555556,
              "#d8576b"
             ],
             [
              0.6666666666666666,
              "#ed7953"
             ],
             [
              0.7777777777777778,
              "#fb9f3a"
             ],
             [
              0.8888888888888888,
              "#fdca26"
             ],
             [
              1,
              "#f0f921"
             ]
            ],
            "type": "surface"
           }
          ],
          "table": [
           {
            "cells": {
             "fill": {
              "color": "#EBF0F8"
             },
             "line": {
              "color": "white"
             }
            },
            "header": {
             "fill": {
              "color": "#C8D4E3"
             },
             "line": {
              "color": "white"
             }
            },
            "type": "table"
           }
          ]
         },
         "layout": {
          "annotationdefaults": {
           "arrowcolor": "#2a3f5f",
           "arrowhead": 0,
           "arrowwidth": 1
          },
          "autotypenumbers": "strict",
          "coloraxis": {
           "colorbar": {
            "outlinewidth": 0,
            "ticks": ""
           }
          },
          "colorscale": {
           "diverging": [
            [
             0,
             "#8e0152"
            ],
            [
             0.1,
             "#c51b7d"
            ],
            [
             0.2,
             "#de77ae"
            ],
            [
             0.3,
             "#f1b6da"
            ],
            [
             0.4,
             "#fde0ef"
            ],
            [
             0.5,
             "#f7f7f7"
            ],
            [
             0.6,
             "#e6f5d0"
            ],
            [
             0.7,
             "#b8e186"
            ],
            [
             0.8,
             "#7fbc41"
            ],
            [
             0.9,
             "#4d9221"
            ],
            [
             1,
             "#276419"
            ]
           ],
           "sequential": [
            [
             0,
             "#0d0887"
            ],
            [
             0.1111111111111111,
             "#46039f"
            ],
            [
             0.2222222222222222,
             "#7201a8"
            ],
            [
             0.3333333333333333,
             "#9c179e"
            ],
            [
             0.4444444444444444,
             "#bd3786"
            ],
            [
             0.5555555555555556,
             "#d8576b"
            ],
            [
             0.6666666666666666,
             "#ed7953"
            ],
            [
             0.7777777777777778,
             "#fb9f3a"
            ],
            [
             0.8888888888888888,
             "#fdca26"
            ],
            [
             1,
             "#f0f921"
            ]
           ],
           "sequentialminus": [
            [
             0,
             "#0d0887"
            ],
            [
             0.1111111111111111,
             "#46039f"
            ],
            [
             0.2222222222222222,
             "#7201a8"
            ],
            [
             0.3333333333333333,
             "#9c179e"
            ],
            [
             0.4444444444444444,
             "#bd3786"
            ],
            [
             0.5555555555555556,
             "#d8576b"
            ],
            [
             0.6666666666666666,
             "#ed7953"
            ],
            [
             0.7777777777777778,
             "#fb9f3a"
            ],
            [
             0.8888888888888888,
             "#fdca26"
            ],
            [
             1,
             "#f0f921"
            ]
           ]
          },
          "colorway": [
           "#636efa",
           "#EF553B",
           "#00cc96",
           "#ab63fa",
           "#FFA15A",
           "#19d3f3",
           "#FF6692",
           "#B6E880",
           "#FF97FF",
           "#FECB52"
          ],
          "font": {
           "color": "#2a3f5f"
          },
          "geo": {
           "bgcolor": "white",
           "lakecolor": "white",
           "landcolor": "#E5ECF6",
           "showlakes": true,
           "showland": true,
           "subunitcolor": "white"
          },
          "hoverlabel": {
           "align": "left"
          },
          "hovermode": "closest",
          "mapbox": {
           "style": "light"
          },
          "paper_bgcolor": "white",
          "plot_bgcolor": "#E5ECF6",
          "polar": {
           "angularaxis": {
            "gridcolor": "white",
            "linecolor": "white",
            "ticks": ""
           },
           "bgcolor": "#E5ECF6",
           "radialaxis": {
            "gridcolor": "white",
            "linecolor": "white",
            "ticks": ""
           }
          },
          "scene": {
           "xaxis": {
            "backgroundcolor": "#E5ECF6",
            "gridcolor": "white",
            "gridwidth": 2,
            "linecolor": "white",
            "showbackground": true,
            "ticks": "",
            "zerolinecolor": "white"
           },
           "yaxis": {
            "backgroundcolor": "#E5ECF6",
            "gridcolor": "white",
            "gridwidth": 2,
            "linecolor": "white",
            "showbackground": true,
            "ticks": "",
            "zerolinecolor": "white"
           },
           "zaxis": {
            "backgroundcolor": "#E5ECF6",
            "gridcolor": "white",
            "gridwidth": 2,
            "linecolor": "white",
            "showbackground": true,
            "ticks": "",
            "zerolinecolor": "white"
           }
          },
          "shapedefaults": {
           "line": {
            "color": "#2a3f5f"
           }
          },
          "ternary": {
           "aaxis": {
            "gridcolor": "white",
            "linecolor": "white",
            "ticks": ""
           },
           "baxis": {
            "gridcolor": "white",
            "linecolor": "white",
            "ticks": ""
           },
           "bgcolor": "#E5ECF6",
           "caxis": {
            "gridcolor": "white",
            "linecolor": "white",
            "ticks": ""
           }
          },
          "title": {
           "x": 0.05
          },
          "xaxis": {
           "automargin": true,
           "gridcolor": "white",
           "linecolor": "white",
           "ticks": "",
           "title": {
            "standoff": 15
           },
           "zerolinecolor": "white",
           "zerolinewidth": 2
          },
          "yaxis": {
           "automargin": true,
           "gridcolor": "white",
           "linecolor": "white",
           "ticks": "",
           "title": {
            "standoff": 15
           },
           "zerolinecolor": "white",
           "zerolinewidth": 2
          }
         }
        },
        "title": {
         "font": {
          "size": 20
         },
         "text": "Revenue por tipo de envio",
         "x": 0.5
        },
        "width": 1000,
        "xaxis": {
         "anchor": "y",
         "categoryarray": [
          "Free Shipping",
          "Express",
          "Store Pickup",
          "Standard",
          "2-Day Shipping",
          "Next Day Air"
         ],
         "categoryorder": "array",
         "domain": [
          0,
          1
         ],
         "title": {
          "text": "Tipo de envio"
         }
        },
        "yaxis": {
         "anchor": "x",
         "domain": [
          0,
          1
         ],
         "title": {
          "text": "Revenue total"
         }
        }
       }
      }
     },
     "metadata": {},
     "output_type": "display_data"
    }
   ],
   "source": [
    "#Revenue por tipo de envio \n",
    "\n",
    "revenue_shipping = raw_data.groupby(\"Shipping Type\")[\"Purchase Amount (USD)\"].sum().reset_index()\n",
    "revenue_shipping = revenue_shipping.sort_values(by=\"Purchase Amount (USD)\", ascending=False)\n",
    "revenue_shipping_fig = px.bar(revenue_shipping,\n",
    "                              x=\"Shipping Type\", y=\"Purchase Amount (USD)\",\n",
    "                              color=\"Shipping Type\", title=\"Revenue por tipo de envio\")\n",
    "revenue_shipping_fig.update_traces(marker_line_color='black', marker_line_width=1.5)\n",
    "revenue_shipping_fig.update_layout(\n",
    "    width=1000,\n",
    "    height=500,\n",
    "    title_font_size=20,\n",
    "    title_x=0.5,\n",
    "    xaxis_title=\"Tipo de envio\",\n",
    "    yaxis_title=\"Revenue total\"\n",
    ")\n",
    "revenue_shipping_fig.show()\n"
   ]
  },
  {
   "cell_type": "code",
   "execution_count": null,
   "metadata": {},
   "outputs": [],
   "source": []
  }
 ],
 "metadata": {
  "kernelspec": {
   "display_name": "Python 3",
   "language": "python",
   "name": "python3"
  },
  "language_info": {
   "codemirror_mode": {
    "name": "ipython",
    "version": 3
   },
   "file_extension": ".py",
   "mimetype": "text/x-python",
   "name": "python",
   "nbconvert_exporter": "python",
   "pygments_lexer": "ipython3",
   "version": "3.13.0"
  }
 },
 "nbformat": 4,
 "nbformat_minor": 2
}
